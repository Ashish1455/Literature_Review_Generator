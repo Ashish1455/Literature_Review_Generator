{
  "nbformat": 4,
  "nbformat_minor": 0,
  "metadata": {
    "colab": {
      "provenance": [],
      "gpuType": "T4"
    },
    "kernelspec": {
      "name": "python3",
      "display_name": "Python 3"
    },
    "language_info": {
      "name": "python"
    },
    "accelerator": "GPU",
    "widgets": {
      "application/vnd.jupyter.widget-state+json": {
        "5b9506cef2e8419d9dc524b78e28a4de": {
          "model_module": "@jupyter-widgets/controls",
          "model_name": "HBoxModel",
          "model_module_version": "1.5.0",
          "state": {
            "_dom_classes": [],
            "_model_module": "@jupyter-widgets/controls",
            "_model_module_version": "1.5.0",
            "_model_name": "HBoxModel",
            "_view_count": null,
            "_view_module": "@jupyter-widgets/controls",
            "_view_module_version": "1.5.0",
            "_view_name": "HBoxView",
            "box_style": "",
            "children": [
              "IPY_MODEL_b5b577933f0a42ae810187e5645555d3",
              "IPY_MODEL_8f24eccb3bb3492faa4c32709e09f4bf",
              "IPY_MODEL_f16b33a0a39c4c15aa10c1fdfaa509e4"
            ],
            "layout": "IPY_MODEL_45c840f2c9f94be4a5bc0699a1d488a3"
          }
        },
        "b5b577933f0a42ae810187e5645555d3": {
          "model_module": "@jupyter-widgets/controls",
          "model_name": "HTMLModel",
          "model_module_version": "1.5.0",
          "state": {
            "_dom_classes": [],
            "_model_module": "@jupyter-widgets/controls",
            "_model_module_version": "1.5.0",
            "_model_name": "HTMLModel",
            "_view_count": null,
            "_view_module": "@jupyter-widgets/controls",
            "_view_module_version": "1.5.0",
            "_view_name": "HTMLView",
            "description": "",
            "description_tooltip": null,
            "layout": "IPY_MODEL_637f9d9df134401398f0e8d79459d976",
            "placeholder": "​",
            "style": "IPY_MODEL_4d768c6012364a9880a5ac00a4ac06bb",
            "value": "tokenizer_config.json: 100%"
          }
        },
        "8f24eccb3bb3492faa4c32709e09f4bf": {
          "model_module": "@jupyter-widgets/controls",
          "model_name": "FloatProgressModel",
          "model_module_version": "1.5.0",
          "state": {
            "_dom_classes": [],
            "_model_module": "@jupyter-widgets/controls",
            "_model_module_version": "1.5.0",
            "_model_name": "FloatProgressModel",
            "_view_count": null,
            "_view_module": "@jupyter-widgets/controls",
            "_view_module_version": "1.5.0",
            "_view_name": "ProgressView",
            "bar_style": "success",
            "description": "",
            "description_tooltip": null,
            "layout": "IPY_MODEL_45647a237e2f4d7fba5c4cc5618a97bf",
            "max": 26,
            "min": 0,
            "orientation": "horizontal",
            "style": "IPY_MODEL_d4b54a9c7b694a6c9993124a9458fd89",
            "value": 26
          }
        },
        "f16b33a0a39c4c15aa10c1fdfaa509e4": {
          "model_module": "@jupyter-widgets/controls",
          "model_name": "HTMLModel",
          "model_module_version": "1.5.0",
          "state": {
            "_dom_classes": [],
            "_model_module": "@jupyter-widgets/controls",
            "_model_module_version": "1.5.0",
            "_model_name": "HTMLModel",
            "_view_count": null,
            "_view_module": "@jupyter-widgets/controls",
            "_view_module_version": "1.5.0",
            "_view_name": "HTMLView",
            "description": "",
            "description_tooltip": null,
            "layout": "IPY_MODEL_6ccb980f6d8c4280bd7c06949734c23d",
            "placeholder": "​",
            "style": "IPY_MODEL_cd07f48507c14d5fb60555eb829c48bb",
            "value": " 26.0/26.0 [00:00&lt;00:00, 1.51kB/s]"
          }
        },
        "45c840f2c9f94be4a5bc0699a1d488a3": {
          "model_module": "@jupyter-widgets/base",
          "model_name": "LayoutModel",
          "model_module_version": "1.2.0",
          "state": {
            "_model_module": "@jupyter-widgets/base",
            "_model_module_version": "1.2.0",
            "_model_name": "LayoutModel",
            "_view_count": null,
            "_view_module": "@jupyter-widgets/base",
            "_view_module_version": "1.2.0",
            "_view_name": "LayoutView",
            "align_content": null,
            "align_items": null,
            "align_self": null,
            "border": null,
            "bottom": null,
            "display": null,
            "flex": null,
            "flex_flow": null,
            "grid_area": null,
            "grid_auto_columns": null,
            "grid_auto_flow": null,
            "grid_auto_rows": null,
            "grid_column": null,
            "grid_gap": null,
            "grid_row": null,
            "grid_template_areas": null,
            "grid_template_columns": null,
            "grid_template_rows": null,
            "height": null,
            "justify_content": null,
            "justify_items": null,
            "left": null,
            "margin": null,
            "max_height": null,
            "max_width": null,
            "min_height": null,
            "min_width": null,
            "object_fit": null,
            "object_position": null,
            "order": null,
            "overflow": null,
            "overflow_x": null,
            "overflow_y": null,
            "padding": null,
            "right": null,
            "top": null,
            "visibility": null,
            "width": null
          }
        },
        "637f9d9df134401398f0e8d79459d976": {
          "model_module": "@jupyter-widgets/base",
          "model_name": "LayoutModel",
          "model_module_version": "1.2.0",
          "state": {
            "_model_module": "@jupyter-widgets/base",
            "_model_module_version": "1.2.0",
            "_model_name": "LayoutModel",
            "_view_count": null,
            "_view_module": "@jupyter-widgets/base",
            "_view_module_version": "1.2.0",
            "_view_name": "LayoutView",
            "align_content": null,
            "align_items": null,
            "align_self": null,
            "border": null,
            "bottom": null,
            "display": null,
            "flex": null,
            "flex_flow": null,
            "grid_area": null,
            "grid_auto_columns": null,
            "grid_auto_flow": null,
            "grid_auto_rows": null,
            "grid_column": null,
            "grid_gap": null,
            "grid_row": null,
            "grid_template_areas": null,
            "grid_template_columns": null,
            "grid_template_rows": null,
            "height": null,
            "justify_content": null,
            "justify_items": null,
            "left": null,
            "margin": null,
            "max_height": null,
            "max_width": null,
            "min_height": null,
            "min_width": null,
            "object_fit": null,
            "object_position": null,
            "order": null,
            "overflow": null,
            "overflow_x": null,
            "overflow_y": null,
            "padding": null,
            "right": null,
            "top": null,
            "visibility": null,
            "width": null
          }
        },
        "4d768c6012364a9880a5ac00a4ac06bb": {
          "model_module": "@jupyter-widgets/controls",
          "model_name": "DescriptionStyleModel",
          "model_module_version": "1.5.0",
          "state": {
            "_model_module": "@jupyter-widgets/controls",
            "_model_module_version": "1.5.0",
            "_model_name": "DescriptionStyleModel",
            "_view_count": null,
            "_view_module": "@jupyter-widgets/base",
            "_view_module_version": "1.2.0",
            "_view_name": "StyleView",
            "description_width": ""
          }
        },
        "45647a237e2f4d7fba5c4cc5618a97bf": {
          "model_module": "@jupyter-widgets/base",
          "model_name": "LayoutModel",
          "model_module_version": "1.2.0",
          "state": {
            "_model_module": "@jupyter-widgets/base",
            "_model_module_version": "1.2.0",
            "_model_name": "LayoutModel",
            "_view_count": null,
            "_view_module": "@jupyter-widgets/base",
            "_view_module_version": "1.2.0",
            "_view_name": "LayoutView",
            "align_content": null,
            "align_items": null,
            "align_self": null,
            "border": null,
            "bottom": null,
            "display": null,
            "flex": null,
            "flex_flow": null,
            "grid_area": null,
            "grid_auto_columns": null,
            "grid_auto_flow": null,
            "grid_auto_rows": null,
            "grid_column": null,
            "grid_gap": null,
            "grid_row": null,
            "grid_template_areas": null,
            "grid_template_columns": null,
            "grid_template_rows": null,
            "height": null,
            "justify_content": null,
            "justify_items": null,
            "left": null,
            "margin": null,
            "max_height": null,
            "max_width": null,
            "min_height": null,
            "min_width": null,
            "object_fit": null,
            "object_position": null,
            "order": null,
            "overflow": null,
            "overflow_x": null,
            "overflow_y": null,
            "padding": null,
            "right": null,
            "top": null,
            "visibility": null,
            "width": null
          }
        },
        "d4b54a9c7b694a6c9993124a9458fd89": {
          "model_module": "@jupyter-widgets/controls",
          "model_name": "ProgressStyleModel",
          "model_module_version": "1.5.0",
          "state": {
            "_model_module": "@jupyter-widgets/controls",
            "_model_module_version": "1.5.0",
            "_model_name": "ProgressStyleModel",
            "_view_count": null,
            "_view_module": "@jupyter-widgets/base",
            "_view_module_version": "1.2.0",
            "_view_name": "StyleView",
            "bar_color": null,
            "description_width": ""
          }
        },
        "6ccb980f6d8c4280bd7c06949734c23d": {
          "model_module": "@jupyter-widgets/base",
          "model_name": "LayoutModel",
          "model_module_version": "1.2.0",
          "state": {
            "_model_module": "@jupyter-widgets/base",
            "_model_module_version": "1.2.0",
            "_model_name": "LayoutModel",
            "_view_count": null,
            "_view_module": "@jupyter-widgets/base",
            "_view_module_version": "1.2.0",
            "_view_name": "LayoutView",
            "align_content": null,
            "align_items": null,
            "align_self": null,
            "border": null,
            "bottom": null,
            "display": null,
            "flex": null,
            "flex_flow": null,
            "grid_area": null,
            "grid_auto_columns": null,
            "grid_auto_flow": null,
            "grid_auto_rows": null,
            "grid_column": null,
            "grid_gap": null,
            "grid_row": null,
            "grid_template_areas": null,
            "grid_template_columns": null,
            "grid_template_rows": null,
            "height": null,
            "justify_content": null,
            "justify_items": null,
            "left": null,
            "margin": null,
            "max_height": null,
            "max_width": null,
            "min_height": null,
            "min_width": null,
            "object_fit": null,
            "object_position": null,
            "order": null,
            "overflow": null,
            "overflow_x": null,
            "overflow_y": null,
            "padding": null,
            "right": null,
            "top": null,
            "visibility": null,
            "width": null
          }
        },
        "cd07f48507c14d5fb60555eb829c48bb": {
          "model_module": "@jupyter-widgets/controls",
          "model_name": "DescriptionStyleModel",
          "model_module_version": "1.5.0",
          "state": {
            "_model_module": "@jupyter-widgets/controls",
            "_model_module_version": "1.5.0",
            "_model_name": "DescriptionStyleModel",
            "_view_count": null,
            "_view_module": "@jupyter-widgets/base",
            "_view_module_version": "1.2.0",
            "_view_name": "StyleView",
            "description_width": ""
          }
        },
        "749747d4c46d44e68595a51eca402e2a": {
          "model_module": "@jupyter-widgets/controls",
          "model_name": "HBoxModel",
          "model_module_version": "1.5.0",
          "state": {
            "_dom_classes": [],
            "_model_module": "@jupyter-widgets/controls",
            "_model_module_version": "1.5.0",
            "_model_name": "HBoxModel",
            "_view_count": null,
            "_view_module": "@jupyter-widgets/controls",
            "_view_module_version": "1.5.0",
            "_view_name": "HBoxView",
            "box_style": "",
            "children": [
              "IPY_MODEL_72c6f5116aa741e0be8bc7f57227cd2f",
              "IPY_MODEL_511e08531df546f28e009d0466d78128",
              "IPY_MODEL_fbe868f6b2a04c24a3bf2e1ad0ffa12b"
            ],
            "layout": "IPY_MODEL_487493d76d124a54836bec2e18d87b72"
          }
        },
        "72c6f5116aa741e0be8bc7f57227cd2f": {
          "model_module": "@jupyter-widgets/controls",
          "model_name": "HTMLModel",
          "model_module_version": "1.5.0",
          "state": {
            "_dom_classes": [],
            "_model_module": "@jupyter-widgets/controls",
            "_model_module_version": "1.5.0",
            "_model_name": "HTMLModel",
            "_view_count": null,
            "_view_module": "@jupyter-widgets/controls",
            "_view_module_version": "1.5.0",
            "_view_name": "HTMLView",
            "description": "",
            "description_tooltip": null,
            "layout": "IPY_MODEL_b73d4b2ae4cc42f596f00ab133083739",
            "placeholder": "​",
            "style": "IPY_MODEL_a541bec000ce49e68fb0cffad20ff0d1",
            "value": "config.json: 100%"
          }
        },
        "511e08531df546f28e009d0466d78128": {
          "model_module": "@jupyter-widgets/controls",
          "model_name": "FloatProgressModel",
          "model_module_version": "1.5.0",
          "state": {
            "_dom_classes": [],
            "_model_module": "@jupyter-widgets/controls",
            "_model_module_version": "1.5.0",
            "_model_name": "FloatProgressModel",
            "_view_count": null,
            "_view_module": "@jupyter-widgets/controls",
            "_view_module_version": "1.5.0",
            "_view_name": "ProgressView",
            "bar_style": "success",
            "description": "",
            "description_tooltip": null,
            "layout": "IPY_MODEL_e1fdb9d2b851480e922e41e451387b4c",
            "max": 1802,
            "min": 0,
            "orientation": "horizontal",
            "style": "IPY_MODEL_439ba744766b4e5ea79bec9d5e7131f4",
            "value": 1802
          }
        },
        "fbe868f6b2a04c24a3bf2e1ad0ffa12b": {
          "model_module": "@jupyter-widgets/controls",
          "model_name": "HTMLModel",
          "model_module_version": "1.5.0",
          "state": {
            "_dom_classes": [],
            "_model_module": "@jupyter-widgets/controls",
            "_model_module_version": "1.5.0",
            "_model_name": "HTMLModel",
            "_view_count": null,
            "_view_module": "@jupyter-widgets/controls",
            "_view_module_version": "1.5.0",
            "_view_name": "HTMLView",
            "description": "",
            "description_tooltip": null,
            "layout": "IPY_MODEL_a271fc63d9cf4946b04b9601b8ea0496",
            "placeholder": "​",
            "style": "IPY_MODEL_b398f6f5752041d58adea2ae12e594f4",
            "value": " 1.80k/1.80k [00:00&lt;00:00, 122kB/s]"
          }
        },
        "487493d76d124a54836bec2e18d87b72": {
          "model_module": "@jupyter-widgets/base",
          "model_name": "LayoutModel",
          "model_module_version": "1.2.0",
          "state": {
            "_model_module": "@jupyter-widgets/base",
            "_model_module_version": "1.2.0",
            "_model_name": "LayoutModel",
            "_view_count": null,
            "_view_module": "@jupyter-widgets/base",
            "_view_module_version": "1.2.0",
            "_view_name": "LayoutView",
            "align_content": null,
            "align_items": null,
            "align_self": null,
            "border": null,
            "bottom": null,
            "display": null,
            "flex": null,
            "flex_flow": null,
            "grid_area": null,
            "grid_auto_columns": null,
            "grid_auto_flow": null,
            "grid_auto_rows": null,
            "grid_column": null,
            "grid_gap": null,
            "grid_row": null,
            "grid_template_areas": null,
            "grid_template_columns": null,
            "grid_template_rows": null,
            "height": null,
            "justify_content": null,
            "justify_items": null,
            "left": null,
            "margin": null,
            "max_height": null,
            "max_width": null,
            "min_height": null,
            "min_width": null,
            "object_fit": null,
            "object_position": null,
            "order": null,
            "overflow": null,
            "overflow_x": null,
            "overflow_y": null,
            "padding": null,
            "right": null,
            "top": null,
            "visibility": null,
            "width": null
          }
        },
        "b73d4b2ae4cc42f596f00ab133083739": {
          "model_module": "@jupyter-widgets/base",
          "model_name": "LayoutModel",
          "model_module_version": "1.2.0",
          "state": {
            "_model_module": "@jupyter-widgets/base",
            "_model_module_version": "1.2.0",
            "_model_name": "LayoutModel",
            "_view_count": null,
            "_view_module": "@jupyter-widgets/base",
            "_view_module_version": "1.2.0",
            "_view_name": "LayoutView",
            "align_content": null,
            "align_items": null,
            "align_self": null,
            "border": null,
            "bottom": null,
            "display": null,
            "flex": null,
            "flex_flow": null,
            "grid_area": null,
            "grid_auto_columns": null,
            "grid_auto_flow": null,
            "grid_auto_rows": null,
            "grid_column": null,
            "grid_gap": null,
            "grid_row": null,
            "grid_template_areas": null,
            "grid_template_columns": null,
            "grid_template_rows": null,
            "height": null,
            "justify_content": null,
            "justify_items": null,
            "left": null,
            "margin": null,
            "max_height": null,
            "max_width": null,
            "min_height": null,
            "min_width": null,
            "object_fit": null,
            "object_position": null,
            "order": null,
            "overflow": null,
            "overflow_x": null,
            "overflow_y": null,
            "padding": null,
            "right": null,
            "top": null,
            "visibility": null,
            "width": null
          }
        },
        "a541bec000ce49e68fb0cffad20ff0d1": {
          "model_module": "@jupyter-widgets/controls",
          "model_name": "DescriptionStyleModel",
          "model_module_version": "1.5.0",
          "state": {
            "_model_module": "@jupyter-widgets/controls",
            "_model_module_version": "1.5.0",
            "_model_name": "DescriptionStyleModel",
            "_view_count": null,
            "_view_module": "@jupyter-widgets/base",
            "_view_module_version": "1.2.0",
            "_view_name": "StyleView",
            "description_width": ""
          }
        },
        "e1fdb9d2b851480e922e41e451387b4c": {
          "model_module": "@jupyter-widgets/base",
          "model_name": "LayoutModel",
          "model_module_version": "1.2.0",
          "state": {
            "_model_module": "@jupyter-widgets/base",
            "_model_module_version": "1.2.0",
            "_model_name": "LayoutModel",
            "_view_count": null,
            "_view_module": "@jupyter-widgets/base",
            "_view_module_version": "1.2.0",
            "_view_name": "LayoutView",
            "align_content": null,
            "align_items": null,
            "align_self": null,
            "border": null,
            "bottom": null,
            "display": null,
            "flex": null,
            "flex_flow": null,
            "grid_area": null,
            "grid_auto_columns": null,
            "grid_auto_flow": null,
            "grid_auto_rows": null,
            "grid_column": null,
            "grid_gap": null,
            "grid_row": null,
            "grid_template_areas": null,
            "grid_template_columns": null,
            "grid_template_rows": null,
            "height": null,
            "justify_content": null,
            "justify_items": null,
            "left": null,
            "margin": null,
            "max_height": null,
            "max_width": null,
            "min_height": null,
            "min_width": null,
            "object_fit": null,
            "object_position": null,
            "order": null,
            "overflow": null,
            "overflow_x": null,
            "overflow_y": null,
            "padding": null,
            "right": null,
            "top": null,
            "visibility": null,
            "width": null
          }
        },
        "439ba744766b4e5ea79bec9d5e7131f4": {
          "model_module": "@jupyter-widgets/controls",
          "model_name": "ProgressStyleModel",
          "model_module_version": "1.5.0",
          "state": {
            "_model_module": "@jupyter-widgets/controls",
            "_model_module_version": "1.5.0",
            "_model_name": "ProgressStyleModel",
            "_view_count": null,
            "_view_module": "@jupyter-widgets/base",
            "_view_module_version": "1.2.0",
            "_view_name": "StyleView",
            "bar_color": null,
            "description_width": ""
          }
        },
        "a271fc63d9cf4946b04b9601b8ea0496": {
          "model_module": "@jupyter-widgets/base",
          "model_name": "LayoutModel",
          "model_module_version": "1.2.0",
          "state": {
            "_model_module": "@jupyter-widgets/base",
            "_model_module_version": "1.2.0",
            "_model_name": "LayoutModel",
            "_view_count": null,
            "_view_module": "@jupyter-widgets/base",
            "_view_module_version": "1.2.0",
            "_view_name": "LayoutView",
            "align_content": null,
            "align_items": null,
            "align_self": null,
            "border": null,
            "bottom": null,
            "display": null,
            "flex": null,
            "flex_flow": null,
            "grid_area": null,
            "grid_auto_columns": null,
            "grid_auto_flow": null,
            "grid_auto_rows": null,
            "grid_column": null,
            "grid_gap": null,
            "grid_row": null,
            "grid_template_areas": null,
            "grid_template_columns": null,
            "grid_template_rows": null,
            "height": null,
            "justify_content": null,
            "justify_items": null,
            "left": null,
            "margin": null,
            "max_height": null,
            "max_width": null,
            "min_height": null,
            "min_width": null,
            "object_fit": null,
            "object_position": null,
            "order": null,
            "overflow": null,
            "overflow_x": null,
            "overflow_y": null,
            "padding": null,
            "right": null,
            "top": null,
            "visibility": null,
            "width": null
          }
        },
        "b398f6f5752041d58adea2ae12e594f4": {
          "model_module": "@jupyter-widgets/controls",
          "model_name": "DescriptionStyleModel",
          "model_module_version": "1.5.0",
          "state": {
            "_model_module": "@jupyter-widgets/controls",
            "_model_module_version": "1.5.0",
            "_model_name": "DescriptionStyleModel",
            "_view_count": null,
            "_view_module": "@jupyter-widgets/base",
            "_view_module_version": "1.2.0",
            "_view_name": "StyleView",
            "description_width": ""
          }
        },
        "f39dd56933d646f4bab1e7b50941413c": {
          "model_module": "@jupyter-widgets/controls",
          "model_name": "HBoxModel",
          "model_module_version": "1.5.0",
          "state": {
            "_dom_classes": [],
            "_model_module": "@jupyter-widgets/controls",
            "_model_module_version": "1.5.0",
            "_model_name": "HBoxModel",
            "_view_count": null,
            "_view_module": "@jupyter-widgets/controls",
            "_view_module_version": "1.5.0",
            "_view_name": "HBoxView",
            "box_style": "",
            "children": [
              "IPY_MODEL_8a2ff5efa6024289bd5bdd6372e247c8",
              "IPY_MODEL_cb3bc72b2b334262af1405682c3c7819",
              "IPY_MODEL_f34c92138ff244588aa8fee94486900f"
            ],
            "layout": "IPY_MODEL_2c9c6b6b9a904e24a7234ed1791f1daa"
          }
        },
        "8a2ff5efa6024289bd5bdd6372e247c8": {
          "model_module": "@jupyter-widgets/controls",
          "model_name": "HTMLModel",
          "model_module_version": "1.5.0",
          "state": {
            "_dom_classes": [],
            "_model_module": "@jupyter-widgets/controls",
            "_model_module_version": "1.5.0",
            "_model_name": "HTMLModel",
            "_view_count": null,
            "_view_module": "@jupyter-widgets/controls",
            "_view_module_version": "1.5.0",
            "_view_name": "HTMLView",
            "description": "",
            "description_tooltip": null,
            "layout": "IPY_MODEL_b050ef3b17ea4073a1a8bbf9a6f4307b",
            "placeholder": "​",
            "style": "IPY_MODEL_d709febf03f54727bcfa4bc2260000f8",
            "value": "vocab.json: 100%"
          }
        },
        "cb3bc72b2b334262af1405682c3c7819": {
          "model_module": "@jupyter-widgets/controls",
          "model_name": "FloatProgressModel",
          "model_module_version": "1.5.0",
          "state": {
            "_dom_classes": [],
            "_model_module": "@jupyter-widgets/controls",
            "_model_module_version": "1.5.0",
            "_model_name": "FloatProgressModel",
            "_view_count": null,
            "_view_module": "@jupyter-widgets/controls",
            "_view_module_version": "1.5.0",
            "_view_name": "ProgressView",
            "bar_style": "success",
            "description": "",
            "description_tooltip": null,
            "layout": "IPY_MODEL_d9655eb7d80e47b0aa41e4efedb606ea",
            "max": 898822,
            "min": 0,
            "orientation": "horizontal",
            "style": "IPY_MODEL_119f598ea2fa4cf9a8f14f48188d2af3",
            "value": 898822
          }
        },
        "f34c92138ff244588aa8fee94486900f": {
          "model_module": "@jupyter-widgets/controls",
          "model_name": "HTMLModel",
          "model_module_version": "1.5.0",
          "state": {
            "_dom_classes": [],
            "_model_module": "@jupyter-widgets/controls",
            "_model_module_version": "1.5.0",
            "_model_name": "HTMLModel",
            "_view_count": null,
            "_view_module": "@jupyter-widgets/controls",
            "_view_module_version": "1.5.0",
            "_view_name": "HTMLView",
            "description": "",
            "description_tooltip": null,
            "layout": "IPY_MODEL_d8e49d87b971481c938b3bfed4a534c5",
            "placeholder": "​",
            "style": "IPY_MODEL_4e4146201817413783392e2fbfbdf683",
            "value": " 899k/899k [00:00&lt;00:00, 34.0MB/s]"
          }
        },
        "2c9c6b6b9a904e24a7234ed1791f1daa": {
          "model_module": "@jupyter-widgets/base",
          "model_name": "LayoutModel",
          "model_module_version": "1.2.0",
          "state": {
            "_model_module": "@jupyter-widgets/base",
            "_model_module_version": "1.2.0",
            "_model_name": "LayoutModel",
            "_view_count": null,
            "_view_module": "@jupyter-widgets/base",
            "_view_module_version": "1.2.0",
            "_view_name": "LayoutView",
            "align_content": null,
            "align_items": null,
            "align_self": null,
            "border": null,
            "bottom": null,
            "display": null,
            "flex": null,
            "flex_flow": null,
            "grid_area": null,
            "grid_auto_columns": null,
            "grid_auto_flow": null,
            "grid_auto_rows": null,
            "grid_column": null,
            "grid_gap": null,
            "grid_row": null,
            "grid_template_areas": null,
            "grid_template_columns": null,
            "grid_template_rows": null,
            "height": null,
            "justify_content": null,
            "justify_items": null,
            "left": null,
            "margin": null,
            "max_height": null,
            "max_width": null,
            "min_height": null,
            "min_width": null,
            "object_fit": null,
            "object_position": null,
            "order": null,
            "overflow": null,
            "overflow_x": null,
            "overflow_y": null,
            "padding": null,
            "right": null,
            "top": null,
            "visibility": null,
            "width": null
          }
        },
        "b050ef3b17ea4073a1a8bbf9a6f4307b": {
          "model_module": "@jupyter-widgets/base",
          "model_name": "LayoutModel",
          "model_module_version": "1.2.0",
          "state": {
            "_model_module": "@jupyter-widgets/base",
            "_model_module_version": "1.2.0",
            "_model_name": "LayoutModel",
            "_view_count": null,
            "_view_module": "@jupyter-widgets/base",
            "_view_module_version": "1.2.0",
            "_view_name": "LayoutView",
            "align_content": null,
            "align_items": null,
            "align_self": null,
            "border": null,
            "bottom": null,
            "display": null,
            "flex": null,
            "flex_flow": null,
            "grid_area": null,
            "grid_auto_columns": null,
            "grid_auto_flow": null,
            "grid_auto_rows": null,
            "grid_column": null,
            "grid_gap": null,
            "grid_row": null,
            "grid_template_areas": null,
            "grid_template_columns": null,
            "grid_template_rows": null,
            "height": null,
            "justify_content": null,
            "justify_items": null,
            "left": null,
            "margin": null,
            "max_height": null,
            "max_width": null,
            "min_height": null,
            "min_width": null,
            "object_fit": null,
            "object_position": null,
            "order": null,
            "overflow": null,
            "overflow_x": null,
            "overflow_y": null,
            "padding": null,
            "right": null,
            "top": null,
            "visibility": null,
            "width": null
          }
        },
        "d709febf03f54727bcfa4bc2260000f8": {
          "model_module": "@jupyter-widgets/controls",
          "model_name": "DescriptionStyleModel",
          "model_module_version": "1.5.0",
          "state": {
            "_model_module": "@jupyter-widgets/controls",
            "_model_module_version": "1.5.0",
            "_model_name": "DescriptionStyleModel",
            "_view_count": null,
            "_view_module": "@jupyter-widgets/base",
            "_view_module_version": "1.2.0",
            "_view_name": "StyleView",
            "description_width": ""
          }
        },
        "d9655eb7d80e47b0aa41e4efedb606ea": {
          "model_module": "@jupyter-widgets/base",
          "model_name": "LayoutModel",
          "model_module_version": "1.2.0",
          "state": {
            "_model_module": "@jupyter-widgets/base",
            "_model_module_version": "1.2.0",
            "_model_name": "LayoutModel",
            "_view_count": null,
            "_view_module": "@jupyter-widgets/base",
            "_view_module_version": "1.2.0",
            "_view_name": "LayoutView",
            "align_content": null,
            "align_items": null,
            "align_self": null,
            "border": null,
            "bottom": null,
            "display": null,
            "flex": null,
            "flex_flow": null,
            "grid_area": null,
            "grid_auto_columns": null,
            "grid_auto_flow": null,
            "grid_auto_rows": null,
            "grid_column": null,
            "grid_gap": null,
            "grid_row": null,
            "grid_template_areas": null,
            "grid_template_columns": null,
            "grid_template_rows": null,
            "height": null,
            "justify_content": null,
            "justify_items": null,
            "left": null,
            "margin": null,
            "max_height": null,
            "max_width": null,
            "min_height": null,
            "min_width": null,
            "object_fit": null,
            "object_position": null,
            "order": null,
            "overflow": null,
            "overflow_x": null,
            "overflow_y": null,
            "padding": null,
            "right": null,
            "top": null,
            "visibility": null,
            "width": null
          }
        },
        "119f598ea2fa4cf9a8f14f48188d2af3": {
          "model_module": "@jupyter-widgets/controls",
          "model_name": "ProgressStyleModel",
          "model_module_version": "1.5.0",
          "state": {
            "_model_module": "@jupyter-widgets/controls",
            "_model_module_version": "1.5.0",
            "_model_name": "ProgressStyleModel",
            "_view_count": null,
            "_view_module": "@jupyter-widgets/base",
            "_view_module_version": "1.2.0",
            "_view_name": "StyleView",
            "bar_color": null,
            "description_width": ""
          }
        },
        "d8e49d87b971481c938b3bfed4a534c5": {
          "model_module": "@jupyter-widgets/base",
          "model_name": "LayoutModel",
          "model_module_version": "1.2.0",
          "state": {
            "_model_module": "@jupyter-widgets/base",
            "_model_module_version": "1.2.0",
            "_model_name": "LayoutModel",
            "_view_count": null,
            "_view_module": "@jupyter-widgets/base",
            "_view_module_version": "1.2.0",
            "_view_name": "LayoutView",
            "align_content": null,
            "align_items": null,
            "align_self": null,
            "border": null,
            "bottom": null,
            "display": null,
            "flex": null,
            "flex_flow": null,
            "grid_area": null,
            "grid_auto_columns": null,
            "grid_auto_flow": null,
            "grid_auto_rows": null,
            "grid_column": null,
            "grid_gap": null,
            "grid_row": null,
            "grid_template_areas": null,
            "grid_template_columns": null,
            "grid_template_rows": null,
            "height": null,
            "justify_content": null,
            "justify_items": null,
            "left": null,
            "margin": null,
            "max_height": null,
            "max_width": null,
            "min_height": null,
            "min_width": null,
            "object_fit": null,
            "object_position": null,
            "order": null,
            "overflow": null,
            "overflow_x": null,
            "overflow_y": null,
            "padding": null,
            "right": null,
            "top": null,
            "visibility": null,
            "width": null
          }
        },
        "4e4146201817413783392e2fbfbdf683": {
          "model_module": "@jupyter-widgets/controls",
          "model_name": "DescriptionStyleModel",
          "model_module_version": "1.5.0",
          "state": {
            "_model_module": "@jupyter-widgets/controls",
            "_model_module_version": "1.5.0",
            "_model_name": "DescriptionStyleModel",
            "_view_count": null,
            "_view_module": "@jupyter-widgets/base",
            "_view_module_version": "1.2.0",
            "_view_name": "StyleView",
            "description_width": ""
          }
        },
        "9c7b5f47363a452cbaf4c56712044321": {
          "model_module": "@jupyter-widgets/controls",
          "model_name": "HBoxModel",
          "model_module_version": "1.5.0",
          "state": {
            "_dom_classes": [],
            "_model_module": "@jupyter-widgets/controls",
            "_model_module_version": "1.5.0",
            "_model_name": "HBoxModel",
            "_view_count": null,
            "_view_module": "@jupyter-widgets/controls",
            "_view_module_version": "1.5.0",
            "_view_name": "HBoxView",
            "box_style": "",
            "children": [
              "IPY_MODEL_d0371b891a18498fa22264a92ba5c1a7",
              "IPY_MODEL_82a014947bdc4fb39051fa70afd63f78",
              "IPY_MODEL_46ee119996dd42ed8beadfc2de49a7e6"
            ],
            "layout": "IPY_MODEL_e2292f40188342c4a07dacddd0a0b1d5"
          }
        },
        "d0371b891a18498fa22264a92ba5c1a7": {
          "model_module": "@jupyter-widgets/controls",
          "model_name": "HTMLModel",
          "model_module_version": "1.5.0",
          "state": {
            "_dom_classes": [],
            "_model_module": "@jupyter-widgets/controls",
            "_model_module_version": "1.5.0",
            "_model_name": "HTMLModel",
            "_view_count": null,
            "_view_module": "@jupyter-widgets/controls",
            "_view_module_version": "1.5.0",
            "_view_name": "HTMLView",
            "description": "",
            "description_tooltip": null,
            "layout": "IPY_MODEL_e19052c3b5ea4fa38c7e1be1c8621701",
            "placeholder": "​",
            "style": "IPY_MODEL_dc114762b3dc4f3e87626837b0619686",
            "value": "merges.txt: 100%"
          }
        },
        "82a014947bdc4fb39051fa70afd63f78": {
          "model_module": "@jupyter-widgets/controls",
          "model_name": "FloatProgressModel",
          "model_module_version": "1.5.0",
          "state": {
            "_dom_classes": [],
            "_model_module": "@jupyter-widgets/controls",
            "_model_module_version": "1.5.0",
            "_model_name": "FloatProgressModel",
            "_view_count": null,
            "_view_module": "@jupyter-widgets/controls",
            "_view_module_version": "1.5.0",
            "_view_name": "ProgressView",
            "bar_style": "success",
            "description": "",
            "description_tooltip": null,
            "layout": "IPY_MODEL_06cc7968d9564bcfaadb1af6a3bb81ff",
            "max": 456318,
            "min": 0,
            "orientation": "horizontal",
            "style": "IPY_MODEL_870ae15a00c14a299eb55a1dcbad9a3a",
            "value": 456318
          }
        },
        "46ee119996dd42ed8beadfc2de49a7e6": {
          "model_module": "@jupyter-widgets/controls",
          "model_name": "HTMLModel",
          "model_module_version": "1.5.0",
          "state": {
            "_dom_classes": [],
            "_model_module": "@jupyter-widgets/controls",
            "_model_module_version": "1.5.0",
            "_model_name": "HTMLModel",
            "_view_count": null,
            "_view_module": "@jupyter-widgets/controls",
            "_view_module_version": "1.5.0",
            "_view_name": "HTMLView",
            "description": "",
            "description_tooltip": null,
            "layout": "IPY_MODEL_807a8bf6678b48d1a7f4186bb266fa4d",
            "placeholder": "​",
            "style": "IPY_MODEL_e39bab3f6bc0411fa30db7c09ac4da64",
            "value": " 456k/456k [00:00&lt;00:00, 13.0MB/s]"
          }
        },
        "e2292f40188342c4a07dacddd0a0b1d5": {
          "model_module": "@jupyter-widgets/base",
          "model_name": "LayoutModel",
          "model_module_version": "1.2.0",
          "state": {
            "_model_module": "@jupyter-widgets/base",
            "_model_module_version": "1.2.0",
            "_model_name": "LayoutModel",
            "_view_count": null,
            "_view_module": "@jupyter-widgets/base",
            "_view_module_version": "1.2.0",
            "_view_name": "LayoutView",
            "align_content": null,
            "align_items": null,
            "align_self": null,
            "border": null,
            "bottom": null,
            "display": null,
            "flex": null,
            "flex_flow": null,
            "grid_area": null,
            "grid_auto_columns": null,
            "grid_auto_flow": null,
            "grid_auto_rows": null,
            "grid_column": null,
            "grid_gap": null,
            "grid_row": null,
            "grid_template_areas": null,
            "grid_template_columns": null,
            "grid_template_rows": null,
            "height": null,
            "justify_content": null,
            "justify_items": null,
            "left": null,
            "margin": null,
            "max_height": null,
            "max_width": null,
            "min_height": null,
            "min_width": null,
            "object_fit": null,
            "object_position": null,
            "order": null,
            "overflow": null,
            "overflow_x": null,
            "overflow_y": null,
            "padding": null,
            "right": null,
            "top": null,
            "visibility": null,
            "width": null
          }
        },
        "e19052c3b5ea4fa38c7e1be1c8621701": {
          "model_module": "@jupyter-widgets/base",
          "model_name": "LayoutModel",
          "model_module_version": "1.2.0",
          "state": {
            "_model_module": "@jupyter-widgets/base",
            "_model_module_version": "1.2.0",
            "_model_name": "LayoutModel",
            "_view_count": null,
            "_view_module": "@jupyter-widgets/base",
            "_view_module_version": "1.2.0",
            "_view_name": "LayoutView",
            "align_content": null,
            "align_items": null,
            "align_self": null,
            "border": null,
            "bottom": null,
            "display": null,
            "flex": null,
            "flex_flow": null,
            "grid_area": null,
            "grid_auto_columns": null,
            "grid_auto_flow": null,
            "grid_auto_rows": null,
            "grid_column": null,
            "grid_gap": null,
            "grid_row": null,
            "grid_template_areas": null,
            "grid_template_columns": null,
            "grid_template_rows": null,
            "height": null,
            "justify_content": null,
            "justify_items": null,
            "left": null,
            "margin": null,
            "max_height": null,
            "max_width": null,
            "min_height": null,
            "min_width": null,
            "object_fit": null,
            "object_position": null,
            "order": null,
            "overflow": null,
            "overflow_x": null,
            "overflow_y": null,
            "padding": null,
            "right": null,
            "top": null,
            "visibility": null,
            "width": null
          }
        },
        "dc114762b3dc4f3e87626837b0619686": {
          "model_module": "@jupyter-widgets/controls",
          "model_name": "DescriptionStyleModel",
          "model_module_version": "1.5.0",
          "state": {
            "_model_module": "@jupyter-widgets/controls",
            "_model_module_version": "1.5.0",
            "_model_name": "DescriptionStyleModel",
            "_view_count": null,
            "_view_module": "@jupyter-widgets/base",
            "_view_module_version": "1.2.0",
            "_view_name": "StyleView",
            "description_width": ""
          }
        },
        "06cc7968d9564bcfaadb1af6a3bb81ff": {
          "model_module": "@jupyter-widgets/base",
          "model_name": "LayoutModel",
          "model_module_version": "1.2.0",
          "state": {
            "_model_module": "@jupyter-widgets/base",
            "_model_module_version": "1.2.0",
            "_model_name": "LayoutModel",
            "_view_count": null,
            "_view_module": "@jupyter-widgets/base",
            "_view_module_version": "1.2.0",
            "_view_name": "LayoutView",
            "align_content": null,
            "align_items": null,
            "align_self": null,
            "border": null,
            "bottom": null,
            "display": null,
            "flex": null,
            "flex_flow": null,
            "grid_area": null,
            "grid_auto_columns": null,
            "grid_auto_flow": null,
            "grid_auto_rows": null,
            "grid_column": null,
            "grid_gap": null,
            "grid_row": null,
            "grid_template_areas": null,
            "grid_template_columns": null,
            "grid_template_rows": null,
            "height": null,
            "justify_content": null,
            "justify_items": null,
            "left": null,
            "margin": null,
            "max_height": null,
            "max_width": null,
            "min_height": null,
            "min_width": null,
            "object_fit": null,
            "object_position": null,
            "order": null,
            "overflow": null,
            "overflow_x": null,
            "overflow_y": null,
            "padding": null,
            "right": null,
            "top": null,
            "visibility": null,
            "width": null
          }
        },
        "870ae15a00c14a299eb55a1dcbad9a3a": {
          "model_module": "@jupyter-widgets/controls",
          "model_name": "ProgressStyleModel",
          "model_module_version": "1.5.0",
          "state": {
            "_model_module": "@jupyter-widgets/controls",
            "_model_module_version": "1.5.0",
            "_model_name": "ProgressStyleModel",
            "_view_count": null,
            "_view_module": "@jupyter-widgets/base",
            "_view_module_version": "1.2.0",
            "_view_name": "StyleView",
            "bar_color": null,
            "description_width": ""
          }
        },
        "807a8bf6678b48d1a7f4186bb266fa4d": {
          "model_module": "@jupyter-widgets/base",
          "model_name": "LayoutModel",
          "model_module_version": "1.2.0",
          "state": {
            "_model_module": "@jupyter-widgets/base",
            "_model_module_version": "1.2.0",
            "_model_name": "LayoutModel",
            "_view_count": null,
            "_view_module": "@jupyter-widgets/base",
            "_view_module_version": "1.2.0",
            "_view_name": "LayoutView",
            "align_content": null,
            "align_items": null,
            "align_self": null,
            "border": null,
            "bottom": null,
            "display": null,
            "flex": null,
            "flex_flow": null,
            "grid_area": null,
            "grid_auto_columns": null,
            "grid_auto_flow": null,
            "grid_auto_rows": null,
            "grid_column": null,
            "grid_gap": null,
            "grid_row": null,
            "grid_template_areas": null,
            "grid_template_columns": null,
            "grid_template_rows": null,
            "height": null,
            "justify_content": null,
            "justify_items": null,
            "left": null,
            "margin": null,
            "max_height": null,
            "max_width": null,
            "min_height": null,
            "min_width": null,
            "object_fit": null,
            "object_position": null,
            "order": null,
            "overflow": null,
            "overflow_x": null,
            "overflow_y": null,
            "padding": null,
            "right": null,
            "top": null,
            "visibility": null,
            "width": null
          }
        },
        "e39bab3f6bc0411fa30db7c09ac4da64": {
          "model_module": "@jupyter-widgets/controls",
          "model_name": "DescriptionStyleModel",
          "model_module_version": "1.5.0",
          "state": {
            "_model_module": "@jupyter-widgets/controls",
            "_model_module_version": "1.5.0",
            "_model_name": "DescriptionStyleModel",
            "_view_count": null,
            "_view_module": "@jupyter-widgets/base",
            "_view_module_version": "1.2.0",
            "_view_name": "StyleView",
            "description_width": ""
          }
        },
        "65c9cf2cb7e5483096f47e9940af95a8": {
          "model_module": "@jupyter-widgets/controls",
          "model_name": "HBoxModel",
          "model_module_version": "1.5.0",
          "state": {
            "_dom_classes": [],
            "_model_module": "@jupyter-widgets/controls",
            "_model_module_version": "1.5.0",
            "_model_name": "HBoxModel",
            "_view_count": null,
            "_view_module": "@jupyter-widgets/controls",
            "_view_module_version": "1.5.0",
            "_view_name": "HBoxView",
            "box_style": "",
            "children": [
              "IPY_MODEL_78437081bc344398ba5963db393a9639",
              "IPY_MODEL_402ae8af772f4291a49b22d5db3e042c",
              "IPY_MODEL_97843580f73942cca059b9332052b3d1"
            ],
            "layout": "IPY_MODEL_61b678fc4d1446caa3bdda5d8d94e0be"
          }
        },
        "78437081bc344398ba5963db393a9639": {
          "model_module": "@jupyter-widgets/controls",
          "model_name": "HTMLModel",
          "model_module_version": "1.5.0",
          "state": {
            "_dom_classes": [],
            "_model_module": "@jupyter-widgets/controls",
            "_model_module_version": "1.5.0",
            "_model_name": "HTMLModel",
            "_view_count": null,
            "_view_module": "@jupyter-widgets/controls",
            "_view_module_version": "1.5.0",
            "_view_name": "HTMLView",
            "description": "",
            "description_tooltip": null,
            "layout": "IPY_MODEL_130251c40bb14e90855a029ce43fb664",
            "placeholder": "​",
            "style": "IPY_MODEL_47302f93b90f49f28be4fa3b637c15e8",
            "value": "pytorch_model.bin: 100%"
          }
        },
        "402ae8af772f4291a49b22d5db3e042c": {
          "model_module": "@jupyter-widgets/controls",
          "model_name": "FloatProgressModel",
          "model_module_version": "1.5.0",
          "state": {
            "_dom_classes": [],
            "_model_module": "@jupyter-widgets/controls",
            "_model_module_version": "1.5.0",
            "_model_name": "FloatProgressModel",
            "_view_count": null,
            "_view_module": "@jupyter-widgets/controls",
            "_view_module_version": "1.5.0",
            "_view_name": "ProgressView",
            "bar_style": "success",
            "description": "",
            "description_tooltip": null,
            "layout": "IPY_MODEL_fe9b3a497fb4491f992279f9e0c8dd16",
            "max": 1222317369,
            "min": 0,
            "orientation": "horizontal",
            "style": "IPY_MODEL_28f38efd73db4c14a6543daf432c3020",
            "value": 1222317369
          }
        },
        "97843580f73942cca059b9332052b3d1": {
          "model_module": "@jupyter-widgets/controls",
          "model_name": "HTMLModel",
          "model_module_version": "1.5.0",
          "state": {
            "_dom_classes": [],
            "_model_module": "@jupyter-widgets/controls",
            "_model_module_version": "1.5.0",
            "_model_name": "HTMLModel",
            "_view_count": null,
            "_view_module": "@jupyter-widgets/controls",
            "_view_module_version": "1.5.0",
            "_view_name": "HTMLView",
            "description": "",
            "description_tooltip": null,
            "layout": "IPY_MODEL_405177e65081465185c0460bef3059ce",
            "placeholder": "​",
            "style": "IPY_MODEL_cb388514b4b84a61aacd9c8681fe285d",
            "value": " 1.22G/1.22G [00:14&lt;00:00, 50.2MB/s]"
          }
        },
        "61b678fc4d1446caa3bdda5d8d94e0be": {
          "model_module": "@jupyter-widgets/base",
          "model_name": "LayoutModel",
          "model_module_version": "1.2.0",
          "state": {
            "_model_module": "@jupyter-widgets/base",
            "_model_module_version": "1.2.0",
            "_model_name": "LayoutModel",
            "_view_count": null,
            "_view_module": "@jupyter-widgets/base",
            "_view_module_version": "1.2.0",
            "_view_name": "LayoutView",
            "align_content": null,
            "align_items": null,
            "align_self": null,
            "border": null,
            "bottom": null,
            "display": null,
            "flex": null,
            "flex_flow": null,
            "grid_area": null,
            "grid_auto_columns": null,
            "grid_auto_flow": null,
            "grid_auto_rows": null,
            "grid_column": null,
            "grid_gap": null,
            "grid_row": null,
            "grid_template_areas": null,
            "grid_template_columns": null,
            "grid_template_rows": null,
            "height": null,
            "justify_content": null,
            "justify_items": null,
            "left": null,
            "margin": null,
            "max_height": null,
            "max_width": null,
            "min_height": null,
            "min_width": null,
            "object_fit": null,
            "object_position": null,
            "order": null,
            "overflow": null,
            "overflow_x": null,
            "overflow_y": null,
            "padding": null,
            "right": null,
            "top": null,
            "visibility": null,
            "width": null
          }
        },
        "130251c40bb14e90855a029ce43fb664": {
          "model_module": "@jupyter-widgets/base",
          "model_name": "LayoutModel",
          "model_module_version": "1.2.0",
          "state": {
            "_model_module": "@jupyter-widgets/base",
            "_model_module_version": "1.2.0",
            "_model_name": "LayoutModel",
            "_view_count": null,
            "_view_module": "@jupyter-widgets/base",
            "_view_module_version": "1.2.0",
            "_view_name": "LayoutView",
            "align_content": null,
            "align_items": null,
            "align_self": null,
            "border": null,
            "bottom": null,
            "display": null,
            "flex": null,
            "flex_flow": null,
            "grid_area": null,
            "grid_auto_columns": null,
            "grid_auto_flow": null,
            "grid_auto_rows": null,
            "grid_column": null,
            "grid_gap": null,
            "grid_row": null,
            "grid_template_areas": null,
            "grid_template_columns": null,
            "grid_template_rows": null,
            "height": null,
            "justify_content": null,
            "justify_items": null,
            "left": null,
            "margin": null,
            "max_height": null,
            "max_width": null,
            "min_height": null,
            "min_width": null,
            "object_fit": null,
            "object_position": null,
            "order": null,
            "overflow": null,
            "overflow_x": null,
            "overflow_y": null,
            "padding": null,
            "right": null,
            "top": null,
            "visibility": null,
            "width": null
          }
        },
        "47302f93b90f49f28be4fa3b637c15e8": {
          "model_module": "@jupyter-widgets/controls",
          "model_name": "DescriptionStyleModel",
          "model_module_version": "1.5.0",
          "state": {
            "_model_module": "@jupyter-widgets/controls",
            "_model_module_version": "1.5.0",
            "_model_name": "DescriptionStyleModel",
            "_view_count": null,
            "_view_module": "@jupyter-widgets/base",
            "_view_module_version": "1.2.0",
            "_view_name": "StyleView",
            "description_width": ""
          }
        },
        "fe9b3a497fb4491f992279f9e0c8dd16": {
          "model_module": "@jupyter-widgets/base",
          "model_name": "LayoutModel",
          "model_module_version": "1.2.0",
          "state": {
            "_model_module": "@jupyter-widgets/base",
            "_model_module_version": "1.2.0",
            "_model_name": "LayoutModel",
            "_view_count": null,
            "_view_module": "@jupyter-widgets/base",
            "_view_module_version": "1.2.0",
            "_view_name": "LayoutView",
            "align_content": null,
            "align_items": null,
            "align_self": null,
            "border": null,
            "bottom": null,
            "display": null,
            "flex": null,
            "flex_flow": null,
            "grid_area": null,
            "grid_auto_columns": null,
            "grid_auto_flow": null,
            "grid_auto_rows": null,
            "grid_column": null,
            "grid_gap": null,
            "grid_row": null,
            "grid_template_areas": null,
            "grid_template_columns": null,
            "grid_template_rows": null,
            "height": null,
            "justify_content": null,
            "justify_items": null,
            "left": null,
            "margin": null,
            "max_height": null,
            "max_width": null,
            "min_height": null,
            "min_width": null,
            "object_fit": null,
            "object_position": null,
            "order": null,
            "overflow": null,
            "overflow_x": null,
            "overflow_y": null,
            "padding": null,
            "right": null,
            "top": null,
            "visibility": null,
            "width": null
          }
        },
        "28f38efd73db4c14a6543daf432c3020": {
          "model_module": "@jupyter-widgets/controls",
          "model_name": "ProgressStyleModel",
          "model_module_version": "1.5.0",
          "state": {
            "_model_module": "@jupyter-widgets/controls",
            "_model_module_version": "1.5.0",
            "_model_name": "ProgressStyleModel",
            "_view_count": null,
            "_view_module": "@jupyter-widgets/base",
            "_view_module_version": "1.2.0",
            "_view_name": "StyleView",
            "bar_color": null,
            "description_width": ""
          }
        },
        "405177e65081465185c0460bef3059ce": {
          "model_module": "@jupyter-widgets/base",
          "model_name": "LayoutModel",
          "model_module_version": "1.2.0",
          "state": {
            "_model_module": "@jupyter-widgets/base",
            "_model_module_version": "1.2.0",
            "_model_name": "LayoutModel",
            "_view_count": null,
            "_view_module": "@jupyter-widgets/base",
            "_view_module_version": "1.2.0",
            "_view_name": "LayoutView",
            "align_content": null,
            "align_items": null,
            "align_self": null,
            "border": null,
            "bottom": null,
            "display": null,
            "flex": null,
            "flex_flow": null,
            "grid_area": null,
            "grid_auto_columns": null,
            "grid_auto_flow": null,
            "grid_auto_rows": null,
            "grid_column": null,
            "grid_gap": null,
            "grid_row": null,
            "grid_template_areas": null,
            "grid_template_columns": null,
            "grid_template_rows": null,
            "height": null,
            "justify_content": null,
            "justify_items": null,
            "left": null,
            "margin": null,
            "max_height": null,
            "max_width": null,
            "min_height": null,
            "min_width": null,
            "object_fit": null,
            "object_position": null,
            "order": null,
            "overflow": null,
            "overflow_x": null,
            "overflow_y": null,
            "padding": null,
            "right": null,
            "top": null,
            "visibility": null,
            "width": null
          }
        },
        "cb388514b4b84a61aacd9c8681fe285d": {
          "model_module": "@jupyter-widgets/controls",
          "model_name": "DescriptionStyleModel",
          "model_module_version": "1.5.0",
          "state": {
            "_model_module": "@jupyter-widgets/controls",
            "_model_module_version": "1.5.0",
            "_model_name": "DescriptionStyleModel",
            "_view_count": null,
            "_view_module": "@jupyter-widgets/base",
            "_view_module_version": "1.2.0",
            "_view_name": "StyleView",
            "description_width": ""
          }
        }
      }
    }
  },
  "cells": [
    {
      "cell_type": "code",
      "execution_count": 1,
      "metadata": {
        "id": "lc3-jv3MH_Xe"
      },
      "outputs": [],
      "source": [
        "# wrap the output in colab cells\n",
        "from IPython.display import HTML, display\n",
        "\n",
        "def set_css():\n",
        "  display(HTML('''\n",
        "\n",
        "  '''))\n",
        "get_ipython().events.register('pre_run_cell', set_css)\n"
      ]
    },
    {
      "cell_type": "code",
      "source": [
        "# install transformers with sentencepiece\n",
        "!pip install transformers[sentencepiece]\n",
        "!pip install PyMuPDF\n",
        "import fitz  # PyMuPDF\n"
      ],
      "metadata": {
        "colab": {
          "base_uri": "https://localhost:8080/",
          "height": 505
        },
        "id": "pXqJC0i2IMi8",
        "outputId": "d34afa6e-5a6a-4905-c9e5-ddf4385aa874"
      },
      "execution_count": 2,
      "outputs": [
        {
          "output_type": "display_data",
          "data": {
            "text/plain": [
              "<IPython.core.display.HTML object>"
            ],
            "text/html": [
              "\n",
              "\n",
              "  "
            ]
          },
          "metadata": {}
        },
        {
          "output_type": "stream",
          "name": "stdout",
          "text": [
            "Requirement already satisfied: transformers[sentencepiece] in /usr/local/lib/python3.10/dist-packages (4.41.2)\n",
            "Requirement already satisfied: filelock in /usr/local/lib/python3.10/dist-packages (from transformers[sentencepiece]) (3.15.3)\n",
            "Requirement already satisfied: huggingface-hub<1.0,>=0.23.0 in /usr/local/lib/python3.10/dist-packages (from transformers[sentencepiece]) (0.23.4)\n",
            "Requirement already satisfied: numpy>=1.17 in /usr/local/lib/python3.10/dist-packages (from transformers[sentencepiece]) (1.25.2)\n",
            "Requirement already satisfied: packaging>=20.0 in /usr/local/lib/python3.10/dist-packages (from transformers[sentencepiece]) (24.1)\n",
            "Requirement already satisfied: pyyaml>=5.1 in /usr/local/lib/python3.10/dist-packages (from transformers[sentencepiece]) (6.0.1)\n",
            "Requirement already satisfied: regex!=2019.12.17 in /usr/local/lib/python3.10/dist-packages (from transformers[sentencepiece]) (2024.5.15)\n",
            "Requirement already satisfied: requests in /usr/local/lib/python3.10/dist-packages (from transformers[sentencepiece]) (2.31.0)\n",
            "Requirement already satisfied: tokenizers<0.20,>=0.19 in /usr/local/lib/python3.10/dist-packages (from transformers[sentencepiece]) (0.19.1)\n",
            "Requirement already satisfied: safetensors>=0.4.1 in /usr/local/lib/python3.10/dist-packages (from transformers[sentencepiece]) (0.4.3)\n",
            "Requirement already satisfied: tqdm>=4.27 in /usr/local/lib/python3.10/dist-packages (from transformers[sentencepiece]) (4.66.4)\n",
            "Requirement already satisfied: sentencepiece!=0.1.92,>=0.1.91 in /usr/local/lib/python3.10/dist-packages (from transformers[sentencepiece]) (0.1.99)\n",
            "Requirement already satisfied: protobuf in /usr/local/lib/python3.10/dist-packages (from transformers[sentencepiece]) (3.20.3)\n",
            "Requirement already satisfied: fsspec>=2023.5.0 in /usr/local/lib/python3.10/dist-packages (from huggingface-hub<1.0,>=0.23.0->transformers[sentencepiece]) (2023.6.0)\n",
            "Requirement already satisfied: typing-extensions>=3.7.4.3 in /usr/local/lib/python3.10/dist-packages (from huggingface-hub<1.0,>=0.23.0->transformers[sentencepiece]) (4.12.2)\n",
            "Requirement already satisfied: charset-normalizer<4,>=2 in /usr/local/lib/python3.10/dist-packages (from requests->transformers[sentencepiece]) (3.3.2)\n",
            "Requirement already satisfied: idna<4,>=2.5 in /usr/local/lib/python3.10/dist-packages (from requests->transformers[sentencepiece]) (3.7)\n",
            "Requirement already satisfied: urllib3<3,>=1.21.1 in /usr/local/lib/python3.10/dist-packages (from requests->transformers[sentencepiece]) (2.0.7)\n",
            "Requirement already satisfied: certifi>=2017.4.17 in /usr/local/lib/python3.10/dist-packages (from requests->transformers[sentencepiece]) (2024.6.2)\n",
            "Collecting PyMuPDF\n",
            "  Downloading PyMuPDF-1.24.7-cp310-none-manylinux2014_x86_64.whl (3.5 MB)\n",
            "\u001b[2K     \u001b[90m━━━━━━━━━━━━━━━━━━━━━━━━━━━━━━━━━━━━━━━━\u001b[0m \u001b[32m3.5/3.5 MB\u001b[0m \u001b[31m28.6 MB/s\u001b[0m eta \u001b[36m0:00:00\u001b[0m\n",
            "\u001b[?25hCollecting PyMuPDFb==1.24.6 (from PyMuPDF)\n",
            "  Downloading PyMuPDFb-1.24.6-py3-none-manylinux2014_x86_64.manylinux_2_17_x86_64.whl (15.7 MB)\n",
            "\u001b[2K     \u001b[90m━━━━━━━━━━━━━━━━━━━━━━━━━━━━━━━━━━━━━━━━\u001b[0m \u001b[32m15.7/15.7 MB\u001b[0m \u001b[31m84.6 MB/s\u001b[0m eta \u001b[36m0:00:00\u001b[0m\n",
            "\u001b[?25hInstalling collected packages: PyMuPDFb, PyMuPDF\n",
            "Successfully installed PyMuPDF-1.24.7 PyMuPDFb-1.24.6\n"
          ]
        }
      ]
    },
    {
      "cell_type": "code",
      "source": [
        "# Function to extract text from PDF\n",
        "def extract_text_from_pdf(pdf_path):\n",
        "    doc = fitz.open(pdf_path)\n",
        "    text = \"\"\n",
        "    for page in doc:\n",
        "        text += page.get_text()\n",
        "    return text"
      ],
      "metadata": {
        "colab": {
          "base_uri": "https://localhost:8080/",
          "height": 17
        },
        "id": "J1fKw0ll6QN3",
        "outputId": "476841c4-96e7-4e70-ff7c-3629201f9742"
      },
      "execution_count": 3,
      "outputs": [
        {
          "output_type": "display_data",
          "data": {
            "text/plain": [
              "<IPython.core.display.HTML object>"
            ],
            "text/html": [
              "\n",
              "\n",
              "  "
            ]
          },
          "metadata": {}
        }
      ]
    },
    {
      "cell_type": "code",
      "source": [
        "# # open and read the file from google drive\n",
        "# file = open(\"/content/drive/MyDrive/Colab Notebooks/Data_Pricing_in_Machine_Learning_Pipelines.txt\", \"r\")\n",
        "# FileContent = file.read().strip()\n",
        "# Path to the PDF file\n",
        "pdf_path = \"/content/A_Unified_Analytical_Framework_for_Trustable_Machine_Learning_and__Automation_Running_with_Blockchain.pdf\"\n",
        "\n",
        "# Extract text from the PDF file\n",
        "FileContent = extract_text_from_pdf(pdf_path)"
      ],
      "metadata": {
        "colab": {
          "base_uri": "https://localhost:8080/",
          "height": 17
        },
        "id": "GTKafViQIUDo",
        "outputId": "41d581ac-5ab1-4c99-e0b3-26717e03aed8"
      },
      "execution_count": 4,
      "outputs": [
        {
          "output_type": "display_data",
          "data": {
            "text/plain": [
              "<IPython.core.display.HTML object>"
            ],
            "text/html": [
              "\n",
              "\n",
              "  "
            ]
          },
          "metadata": {}
        }
      ]
    },
    {
      "cell_type": "code",
      "source": [
        "FileContent"
      ],
      "metadata": {
        "colab": {
          "base_uri": "https://localhost:8080/",
          "height": 140
        },
        "id": "3j7E5TL-NgSg",
        "outputId": "ee041153-b8a4-4678-ca0b-9d539985b4e4"
      },
      "execution_count": 5,
      "outputs": [
        {
          "output_type": "display_data",
          "data": {
            "text/plain": [
              "<IPython.core.display.HTML object>"
            ],
            "text/html": [
              "\n",
              "\n",
              "  "
            ]
          },
          "metadata": {}
        },
        {
          "output_type": "execute_result",
          "data": {
            "text/plain": [
              "'© 2018 IEEE. Personal use of this material is permitted. Permission from IEEE must be obtained for all other uses, in any current or future media, including \\nreprinting/republishing this material for advertising or promotional purposes, creating new collective works, for resale or redistribution to servers or lists, or reuse \\nof any copyrighted component of this work in other works. \\nA Unified Analytical Framework for Trustable Machine \\nLearning and Automation Running with Blockchain \\nTao Wang  \\nSAS Institute Inc. \\nCary, USA \\nt.wang@sas.com \\nAbstract—Traditional machine learning algorithms use data \\nfrom databases that are mutable, and therefore the data cannot \\nbe fully trusted. Also, the machine learning process is difficult to \\nautomate. This paper proposes building a trustable machine \\nlearning system by using blockchain technology, which can store \\ndata in a permanent and immutable way. In addition, smart \\ncontracts are used to automate the machine learning process. \\nThis paper makes three contributions. First, it establishes a link \\nbetween machine learning technology and blockchain technology. \\nPreviously, machine learning and blockchain have been \\nconsidered two independent technologies without an obvious link. \\nSecond, it proposes a unified analytical framework for trustable \\nmachine learning by using blockchain technology. This unified \\nframework solves both the trustability and automation issues in \\nmachine learning. Third, it enables a computer to translate core \\nmachine learning implementation from a single thread on a \\nsingle machine to multiple threads on multiple machines running \\nwith blockchain by using a unified approach. The paper uses \\nassociation rule mining as an example to demonstrate how \\ntrustable machine learning can be implemented with blockchain, \\nand it shows how this approach can be used to analyze opioid \\nprescriptions to help combat the opioid crisis.  \\nKeywords—machine learning, trust, automation, blockchain \\nI. INTRODUCTION \\nMost machine learning algorithms have two common \\nproblems: trustability and lack of automation. First, it can be \\ndifficult to trust the results from a machine learning algorithm, \\nbecause machine learning algorithms use data from databases \\nthat are mutable. System administrators and hackers can \\nchange the data source, and this will eventually change the \\nresults, with or without notification. From another perspective, \\nit could be hard to understand why some machine learning \\nalgorithms are modeling the behavior of a system; but this is \\nbeyond the scope of the paper. Second, it is difficult to \\nautomate the machine learning process. Currently, the machine \\nlearning process is mostly controlled and monitored by human \\nbeings. Sometimes this process might begin or end at \\nsuboptimal times because of human involvement. This paper \\nproposes building a unified analytical framework for trustable \\nmachine learning and automation running with blockchain [1] \\nthat can solve both problems.   \\nA blockchain [1] is a continuously growing, single-linked \\nlist of immutable blocks that are often secured using \\ncryptography. Blockchain was invented by Satoshi Nakamoto \\n[1] in 2008 as a public financial transaction ledger for use in \\nthe cryptocurrency Bitcoin. Blockchain solved the Byzantine \\nGenerals Problem [3] by using a trustable system without \\ngoing through a trusted financial institution. The double-\\nspending problem [4, 5] was also solved in a purely peer-to-\\npeer decentralized network without any financial institution \\ninvolved. The network timestamps transactions by hashing \\nthem using SHA-256 [23] into an ongoing blockchain of hash-\\nbased proof-of-work (PoW), forming a record that cannot be \\nchanged without redoing the PoW (a.k.a. mining), which \\ninvolves a substantial amount of computing power. The longest \\nchain with the highest combined difficulties serves not only as \\nproof of the sequence of transactions witnessed but also as \\nproof that it came from the largest pool of computing power. \\nWith more and more computing power added to the blockchain \\nevery day, it is increasingly difficult to hack the blockchain \\nsystem unless the hacker overpowers the rest of the world \\nwhich is almost impossible in practice. So, people believe the \\ndata that are saved in blockchain are immutable and therefore \\ntrustable. This paper proposes that machine learning algorithms \\nshould use the immutable data provided by blockchain to solve \\nthe trustability problem.  \\nWhile Bitcoin is widely considered to be blockchain 1.0, \\nEthereum [2] is considered to be blockchain 2.0, because it \\nused blockchain not only as the foundation for cryptocurrency \\nbut also for DApps (Decentralized Applications) and DAOs \\n(Decentralized Autonomous Organizations). The Ethereum \\nnetwork provided a blockchain with a built-in, fully fledged, \\nTuring-complete [6] programming language that can be used to \\ncreate so-called “smart contracts”. Smart contracts are \\nessentially some automated processes that can be used to \\nencode arbitrary state transition functions, allowing users to \\ncreate and run complicated systems (such as Facebook and \\nTwitter, theoretically) on top of the Ethereum blockchain. The \\nEthereum blockchain opened a door to the largest development \\neffort witnessed so far in the world of blockchain. There are \\nmany blockchain-based DApps in the making with ambitious \\ngoals to disrupt existing businesses. Therefore, some \\ncompanies are looking at adopting blockchain with greater \\nurgency. For instance, even some “traditional” companies like \\nKodak [9] are tapping into blockchain technology. This paper \\nproposes to use the smart contract as the automation engine to \\nsolve the automation problem.  \\nThis paper makes three contributions. First, it establishes a \\nlink between machine learning technology and blockchain \\ntechnology. Previously, machine learning and blockchain have \\nbeen considered two independent technologies without an \\nobvious link. Second, it proposes a unified analytical \\nframework for trustable machine learning with blockchain \\ntechnology. The proposed unified analytical framework solves \\nboth the trustability and automation issues in machine learning. \\nThird, it makes it possible for a computer to translate \\n(automatically or semi-automatically) core machine learning \\nimplementation from a single thread on a single machine to \\nmultiple threads on multiple machines running with blockchain \\nby using a unified approach. As an example, Association Rule \\nMining (ARM) [11] is used to demonstrate how trustable \\nmachine learning can be done with blockchain, and it shows \\nhow this technology can be used to analyze opioid \\nprescriptions to help combat the opioid crisis. \\nThe rest of this paper is organized as follows. Section II \\nreviews the background and prior art. Section III presents the \\nproposed unified analytical framework for trustable machine \\nlearning and automation running with blockchain. Experiment \\nand results are presented in Section IV. Section V concludes \\nthe paper and points out some future research directions. \\nII. BACKGROUND AND LITERATURE REVIEW \\nCombining blockchain technology with machine learning \\ntechnology is a very new idea. This makes it difficult to find \\nclosely related papers in the literature. In fact, only one such \\nmanuscript has been identified. In that manuscript [22], the \\nauthors proposed a so-called DanKu (Daniel + Kurtulmus) \\nprotocol to enable users to solicit machine learning models for \\na reward on the Ethereum [2] blockchain. The DanKu protocol \\nhas three phases. In the first phase, a reward giver submits a \\ndata set, an evaluation function, and a reward amount to the \\nEthereum contract, and solicits the best machine learning \\nmodel for this data set with the given evaluation function. In \\nthe second phase, machine learning model providers download \\nthe data set and work independently to train a machine learning \\nmodel that can represent these data. When a provider succeeds \\nin training a model, he or she submits the model to the \\nEthereum blockchain. In the third phase, the Ethereum \\nblockchain evaluates the submitted models by using the \\nevaluation function and selects a winner. Unfortunately, the \\nDanKu protocol works only on the Ethereum blockchain. \\nCurrently, two types of blockchains are widely used: public \\nblockchains, such as Bitcoin [1] and Ethereum [2]; and \\npermissioned blockchains (mostly for industry consortia), such \\nas R3 Corda [7], Chain [8], BigChainDB [9], and Hyperledger \\n[10]. It is unclear how the DanKu protocol would work on \\npermissioned blockchains. Other issues raised by this \\nmanuscript [22] can be found in its section 6 (“Miscellanea and \\nConcerns”). \\nIII. A UNIFIED ANALYTICAL FRAMEWORK FOR \\nTRUSTABLE MACHINE LEARNING AND \\nAUTOMATION \\nThere are many ways to classify machine learning \\nalgorithms. For example, machine learning algorithms can be \\ngrouped into four categories: supervised learning, unsupervised \\nlearning, semi-supervised learning, and others. Supervised \\nlearning requires the target (dependent) variable Y to be labeled \\nin the training data so that a model can be built to predict the \\nlabel of unseen data, and it discards training observations that \\nhave unlabeled targets. Unsupervised learning does not require \\nthe target (dependent) variable Y to be labeled in the training \\ndata, and its goal is not to predict the label but to infer a \\nfunction to describe a hidden structure from unlabeled data. \\nSemi-supervised learning requires only the target (dependent) \\nvariable Y to be labeled in a small part of the training data; it is \\noften used as a preprocessing step for supervised learning when \\nlabeling all the training data is impossible or too expensive. \\nAnd there are many other machine learning algorithms, such as \\nreinforcement \\nlearning, \\nassociation \\nrule \\nmining \\n[11], \\nadversarial learning, and so on. While machine learning \\nalgorithms vary a lot, many of them have the following seven \\nsteps (assuming the data are already prepared): \\n1) \\nModel Initialization. This is often the first step in \\nmany machine learning algorithms. In this step, the algorithm \\ninitializes the model by checking required licenses and system \\nresources (such as GPU) and by allocating memory for the data \\nand for necessary structures.  \\n2) \\nModel Training. In this step, the algorithm trains a \\nmachine learning model by using the training data set. This is \\nusually one of the most important steps. The basic premise is \\nthat the trained model should be a good representation of the \\ntraining data set.  \\n3) \\nModel Validation. This step can be optional, but it is \\ncrucial to many machine learning algorithms to prevent over-\\nfitting. Over-fitting happens when the model memories the \\ntraining data but also memories the noise. In this step, the \\nalgorithm validates the trained model on the validation \\n(holdout) data set to prevent over-fitting so that the trained \\nmodel can be applied to new or unseen data sets. Note that \\nmodel validation can occur during model training, so the model \\nknows when to stop. It is listed as a separate step here because \\nmodel validation is less common in big data applications, \\nmainly because of its repetitive nature and longer run time. \\n4) \\nModel Scoring (Testing). This step is optional. In \\nsome unsupervised learning algorithms, there is no model \\nscoring. For supervised learning, model scoring is very \\nimportant and often required. For prediction and regression \\ntasks, the basic idea is to use the trained model to score new or \\nunseen data. Note that model scoring and testing can have \\ndifferent meanings in different contexts, but the terms are used \\ninterchangeably in the literature. \\n5) \\nModel Evaluation (Assessment). This step is optional. \\nThe basic idea is to test how good the trained model is \\naccording to certain metrics. A machine learning algorithm can \\nbe compared with another one through model evaluation. Note \\nthat model evaluation and persistence can have different \\nmeanings in different contexts, but the terms are used \\ninterchangeably in the literature. \\n6) \\nModel Serialization (Persistence).  This step is \\noptional. To ensure that a trained model can be used to score \\nnew or unseen data, it needs to be serialized and saved for \\nfuture use. Note that model serialization and persistence can \\nhave different meanings in different contexts, but the terms are \\nused interchangeably in the literature.  \\n7) \\nModel Clean-up. This is often the last step in many \\nmachine learning algorithms. In this step, the algorithm frees \\nthe allocated memory and releases obtained system resources \\n(such as GPU). \\nThis paper uses these seven steps to demonstrate the unified \\nanalytical framework for trustable machine learning and \\nautomation running with blockchain.  \\nAs stated earlier, blockchain and machine learning are two \\ncompletely different technologies without an obvious link. In \\nthis paragraph, a non-obvious link between the machine \\nlearning technology and the blockchain technology will be \\nestablished. \\nAlthough \\nthey \\nare \\ndifferent, \\nthey \\nhave \\ncomplementary characteristics. Machine learning builds \\nprobabilistic and ever-changing models based on the past or the \\ncurrent reality to predict the future. As we all know, machine \\nlearning needs deterministic and real data in order to build \\ngood models. Unfortunately, current data storage systems are \\nall mutable, so the data can be modified by hackers or \\nunauthorized parties or simply by mistake. Blockchain \\nprovides deterministic and permanent data that record reality \\nand cannot be modified. As a result, machine learning \\nalgorithms can completely trust the data coming from \\nblockchains and build good models. Therefore, blockchain \\nholds the key to trustable machine learning. \\nAgain, there are two major types of blockchains: public \\nblockchains and permissioned blockchains. While people are \\nfamiliar with public blockchains, many of them are not sure \\nabout the need for permissioned blockchains. A detailed \\ndiscussion is beyond the scope of this paper, but a simple \\nexample can demonstrate that permissioned blockchains are in \\nfact needed. For example, if a user (Alice) wants to sell a book \\nto another user (Bob) with 20% discount and does not want to \\ntell this discount to the public, then Alice should use \\npermissioned blockchain to hide this discount information from \\nthe public. A machine learning algorithm can run on a \\nblockchain or off a blockchain. When running off a blockchain, \\nthe algorithm needs to obtain data from the blockchain either at \\nrest (in an aggregated way) or on the fly (in a streaming way). \\nThis paper covers both types of blockchain and different \\nmachine learning algorithm running modes, on or off a \\nblockchain. More details are given later in this section. The \\nconcept is represented in Fig. 1. \\nAs mentioned previously, a smart contract is an automated \\nprocess that can be used to encode arbitrary state transition \\nfunctions, allowing users to create and run complicated \\nalgorithms on a blockchain. One of the advantages of running \\nmachine learning algorithms on a blockchain is that there is no \\ndata movement. However, one disadvantage is that when \\nthousands of machine learning algorithms are running on the \\nsame blockchain, they all consume CPU cycles, and the run \\ntime might become too long. Therefore, machine learning \\nalgorithms should sometimes be running off the blockchain. If \\nthe machine learning algorithm is running off the blockchain, \\nthe algorithm can either obtain all the data via a server layer at \\nrest in an aggregated way or obtain the data one piece at a time \\non the fly via a streaming layer. In addition to using CPU, \\nusing GPU in machine learning is now the  norm. Therefore, \\nwe assume GPU will be used when there is a fit and do not \\ninclude either CPU or GPU in Fig. 1.  \\n \\n \\nFig. 1.  The proposed analytical framework for trustable machine learning. \\nNote that this paper does not distinguish between \\ncomputing nodes and consensus [1–2] nodes. There are good \\nreasons to keep the computing process and consensus process \\non the same physical machine, and good reasons to separate \\nthem. This paper is generic, and therefore this discussion is \\nbeyond its scope. Note also that this paper is agnostic to the \\nconsensus \\nalgorithms \\n[1–2], \\nincluding \\nproof-of-work \\nalgorithms, proof-of-stake algorithms, and others.  \\nThis framework is simple, but it covers almost all common \\nblockchain variations, machine learning running modes, and \\ntheir combinations. Therefore, it makes trustable machine \\nlearning and automation a reality. Currently, many machine \\nlearning algorithms are implemented in such a way that they \\ncan be running on top of the Server Layer (its concept will be \\nexplained later) to handle data at rest. They will have to be \\nmodified so that they can be running on top of the Smart \\nContract Layer and the Streaming Layer (their concepts will be \\nexplained later). Therefore, three versions of implementation \\n(server implementation, streaming implementation and smart \\ncontract implementation) may be needed. However, in many \\norganization, they often choose to use only one of the three \\nimplementations to handle all their business needs. The \\nfollowing paragraphs explain each component of Fig. 1 in \\nmore detail. \\n1. \\nCore Machine Learning: it is the implementation of \\nmachine learning algorithm in its native form. It often includes \\nthe following components, as described earlier in this paper: \\nmodel initialization, model training, model validation, model \\nscoring, model evaluation, model serialization, and model \\ncleanup. Some steps are optional, as stated previously. \\n2. \\nServer Layer Implementation: it is the implementation \\nof the machine learning algorithm after code refactoring so that \\nit can run on top of the Server Layer. In the context of this \\npaper, a Server Layer is a cloud-based computing environment \\nthat can: \\nI. \\nHost one or more machine learning activities, \\nincluding model training, scoring, and others. \\nII. \\nReceive, organize, and disseminate data records to a \\nspecified machine learning task. \\nIII. Handle scoring requests and other requests. \\nThe Server Layer can have two running modes: Symmetric \\nMultiprocessing (SMP) and Massively Parallel Processing \\n(MPP). Therefore, the code refactoring often requires two steps \\naccordingly: SMP code refactoring and MPP code refactoring. \\n2.1. SMP code refactoring includes the following \\ncomponents: \\n1) \\nThread utility functions (setting up the threads, \\nrunning the threads, terminating the threads). See Pseudocode \\nSnippet 1 in Appendix for an example of setting up the threads. \\nOther thread utility functions can be written similarly. \\n2) \\nThread main functions (event handling, exception \\nhandling). See Pseudocode Snippet 2 in Appendix for an \\nexample of the thread main function. \\n3) \\nCore Machine Learning Server Layer Implementation \\nin SMP: \\na) \\nModel Initialization in SMP. \\nb) \\nModel Training in SMP. See Pseudocode Snippet 3 in \\nAppendix for an example of model training in SMP. Other \\nCore Machine Learning Server Layer Implementations in SMP \\ncan be written similarly. \\nc) \\nModel Validation in SMP. \\nd) \\nModel Scoring in SMP. \\ne) \\nModel Evaluation in SMP. \\nf) \\nModel Serialization in SMP. \\ng) \\nModel Clean-up in SMP. \\n2.2. MPP code refactoring includes the following \\ncomponents: \\n1) \\nCloud utility functions (setting up the cloud nodes, \\nrunning the cloud nodes, terminating the cloud nodes). \\n2) \\nCloud main functions (MapReduce, event handling, \\nexception handling). \\n3) \\nCore Machine Learning Server Layer Implementation \\nin MPP: \\na) \\nModel Initialization in MPP. \\nb) \\nModel Training in MPP. \\nc) \\nModel Validation in MPP. \\nd) \\nModel Scoring in MPP. \\ne) \\nModel Evaluation in MPP. \\nf) \\nModel Serialization in MPP. See Pseudocode Snippet \\n4 in Appendix for an example of model serialization in MPP. \\nOther Core Machine Learning Server Layer Implementations \\nin MPP can be written similarly. \\ng) \\nModel Clean-up in MPP. \\n3. \\nStreaming \\nLayer \\nImplementation: \\nit \\nis \\nthe \\nimplementation of the machine learning algorithm after code \\nrefactoring so that it can run on top of the Streaming Layer. In \\nthe context of this paper, a Streaming Layer is a computing \\nenvironment that can: \\nI. \\nHost one or more machine learning activities, \\nincluding model training, scoring, and others. \\nII. \\nReceive, organize and disseminate data events (one or \\nmultiple data records) to specified machine learning task in \\nSliding Windows; discard old data after use. \\nIII. Organize and handle continuous queries, scoring \\nrequests, and other requests. \\nOne of the main differences between the Streaming Layer \\nand the Server Layer is that Streaming Layer handles data \\nevents on the fly (dynamically) and the Server Layer handles \\nall the data at rest (statically). Another major difference is that \\nStreaming Layer often discards old data to make room for new \\ndata while Server Layer usually does not discard old data. \\nThe code refactoring for Streaming Layer Implementation \\nincludes the following components: \\n1) \\nSliding Window utility functions (setting up the \\nsliding windows, running the sliding windows, terminating the \\nsliding windows). \\n2) \\nSliding Window main function (data injecting, data \\ndiscarding, event handling, exception handling). \\n3) \\nCore \\nMachine \\nLearning \\nStreaming \\nLayer \\nImplementation in Sliding Window: \\na) \\nModel Initialization in Sliding Window. \\nb) \\nModel Training in Sliding Window. \\nc) \\nModel \\nValidation \\nin \\nSliding \\nWindow. \\nSee \\nPseudocode Snippet 5 in Appendix for an example of model \\nvalidation in Sliding Window. Other Core Machine Learning \\nStreaming Layer Implementations in Sliding Window can be \\nwritten similarly. \\nd) \\nModel Scoring in Sliding Window. \\ne) \\nModel Evaluation in Sliding Window. \\nf) \\nModel Serialization in Sliding Window. \\ng) \\nModel Clean-up in Sliding Window. \\n4. \\nSmart \\nContract \\nImplementation: \\nit \\nis \\nthe \\nimplementation of the machine learning algorithm after code \\nrefactoring so that it can run on top of the Smart Contract \\nLayer. As mentioned previously, a Smart Contract is just an \\nautomated process. Once a machine learning algorithm is \\nimplemented as a Smart Contract and running on a blockchain, \\nthe automation problem can be solved. This is because when \\nthe predefined conditions are met, the automated process will \\nbe triggered and will run on the blockchain. In the context of \\nthis paper, a Smart Contract Layer is a computing environment \\nthat can: \\nI. \\nHost one or more machine learning activities in an \\nautomated and trustable way and cannot be canceled \\nunilaterally. \\nII. \\nReceive, organize, and disseminate data records to a \\nspecified machine learning task in an automated and trustable \\nway and cannot be canceled unilaterally. \\nIII. Handle scoring requests and other requests in an \\nautomated and trustable way and cannot be canceled \\nunilaterally. \\nThe code refactoring for Smart Contract Implementation \\nincludes the following components: \\n4.1. Smart Contract utility functions: \\n1) \\nReward [2] Smart Contract. It specifies all the details \\nof the reward rules, including but not limited to: what are the \\nwinning criteria (best model wins), how much is the reward, \\nhow to distribute the reward, when will the reward be \\ndistributed, and what kind of digital wallet is required to \\nreceive the reward. The absence of this contract means there is \\nno reward for winning models. See Pseudocode Snippet 6 in \\nAppendix for an example of a Reward Smart Contract. Other \\nsmart contracts can be written similarly. \\n2) \\nModel submission Smart Contract. It specifies the \\nrules to allow participants to submit trained machine learning \\nmodels. Models can be serialized and packed into either plain-\\ntext format or binary format. This contract shall disclose the \\ndetails of the allowed model formats. Some commonly used \\nplain-text formats include: Predictive Model Markup Language \\n(PMML) [18], Portable Format for Analytics (PFA) [19], and \\nOpen Neural Network Exchange (ONNX) [20]. Binary format \\nis designed and often optimized for computer run time and is \\nnot human-readable. Some participants might prefer to use \\ncertain binary formats to protect their intellectual property and \\nto reduce scoring time. Therefore, the specification of a binary \\nformat, such as the ASTORE [21] format, is not an open-\\nsource standard, but a machine model based on a binary format \\ncan run on common platforms. See Pseudocode Snippet 7 in \\nAppendix for an example of a Model Submission Smart \\nContract. Other smart contracts can be written similarly. \\na) \\nFair-play \\nSmart \\nContract. \\nMost \\npublic \\nand \\npermissioned blockchains already have a mechanism in place \\nto detect and prevent abusive behavior. However, a fair-play \\ncontract can still be used to enforce obligations and ensure a \\nhigher level of fairness. For example, this contract can require \\nthe reward to be deposited and secured so that the winning \\nmodel will be rewarded. For another example, it can limit the \\nnumber of submissions per day to avoid abusive and high-\\nfrequency submissions. See Pseudocode Snippet 8 in Appendix \\nfor an example of a Fair-play Smart Contract. Other smart \\ncontracts can be written similarly. \\n3) \\nSmart Contract main function, see Pseudocode \\nSnippet 9 in Appendix for an example of Smart Contract main \\nfunction. \\n4) \\nCore Machine Learning Smart Contract Layer \\nImplementation: \\na) \\nModel initialization in Smart Contract. It initializes \\nthe system and ensures that only the participants who meet the \\nsystem requirements can pass. For example, some machine \\nlearning algorithms require high-end CPU/GPU to find \\nacceptable solutions. Machines without high-end CPU/GPU \\nshall fail the system initialization contract. \\nb) \\nModel training in Smart Contract. It prepares the \\ntraining data set and makes it accessible to the public (for a \\npublic blockchain) or to permissioned participants (for a \\npermissioned blockchain). It also specifies whether the training \\ndata set should be partitioned into a training portion and a \\nvalidation portion. If partitioning should occur, it needs to \\nspecify how to partition the data set into these portions. \\nc) \\nModel validation in Smart Contract. When a separate \\nvalidation data set is available, it prepares the validation data \\nset and makes it accessible to the public (for a public \\nblockchain) or to permissioned participants (for a permissioned \\nblockchain). \\nd) \\nModel scoring in Smart Contract. It prepares the \\nscoring data set and makes it accessible to the public (for a \\npublic blockchain) or to permissioned participants (for a \\npermissioned blockchain). When there is no scoring data set, \\nthe training data set is used for scoring. \\ne) \\nModel evaluation in Smart Contract. It specifies the \\nrules for model evaluation and comparison so that submitted \\nmodels can be ranked and a winning model can be selected. \\nf) \\nModel serialization in Smart Contract. \\ng) \\nModel clean-up in Smart Contract. \\n5. \\nServer Layer APIs: are the APIs provided by the \\nServer Layer. Currently, most Server Layer offerings come \\nwith SDK, which is a complete set of APIs that enable you to \\ncreate applications to run on the Server Layer. \\n6. \\nStreaming Layer APIs: are the APIs provided by the \\nunderneath Streaming Layer. Currently, most Streaming Layer \\nofferings come with SDK, which is a complete set of APIs that \\nenable you to create applications to run on the Streaming \\nLayer. \\n7. \\nSmart Contract APIs: are the APIs provided by the \\nunderlying Smart Contract Layer. Currently, most Smart \\nContract Layer offerings come with SDK, which is a complete \\nset of APIs that enable you to create applications to run on the \\nSmart Contract Layer. \\n8. \\nServer Layer: In the context of this paper, a Server \\nLayer is a cloud-based computing environment that can: \\nI. \\nHost one or more machine learning tasks for model \\ntraining and scoring. \\nII. \\nReceive, save, organize, and disseminate data records \\nto a specified machine learning task. \\nIII. Organize and handle scoring requests. \\n9. \\nStreaming Layer: In the context of this paper, a \\nStreaming Layer is a computing environment that can: \\nI. \\nHost one or more machine learning tasks for model \\ntraining and scoring. \\nII. \\nReceive, organize, and disseminate data events (one \\nor multiple data records) to a specified machine learning task. \\nIII. Organize and handle continuous queries or scoring \\nrequests. \\nOne of the main differences between the Streaming Layer \\nand the Server Layer is that Streaming Layer handles data \\nevents on the fly (dynamically) and the Server Layer handles \\nall the data at rest (statically). Another major difference is that \\nthe Streaming Layer often discards old data events to make \\nroom for new data, and the Server Layer does not discard old \\ndata. \\n10. Smart Contract Layer: In the context of this paper, a \\nSmart Contract Layer is a computing environment that can: \\nI. \\nHost one or more machine learning tasks for model \\ntraining and scoring in an automated and trustable way and \\ncannot be canceled unilaterally. \\nII. \\nReceive, organize, and disseminate data records to a \\nspecified machine learning task in an automated and trustable \\nway and cannot be canceled unilaterally. \\nIII. Organize and handle scoring requests in an automated \\nand trustable way and cannot be canceled unilaterally. \\n11. Blockchain APIs: are the APIs provided by the \\nunderlying blockchain. Currently, many blockchain offerings \\ncome with SDK, which is a set of APIs that enable you to \\ncreate applications to run on the blockchain. The Server Layer \\ncan obtain aggregated data at rest from the blockchain via \\nblockchain APIs. The Streaming Layer can obtain instant data \\non the fly from the blockchain via blockchain APIs. The Smart \\nContract Layer can obtain data from the blockchain via \\nblockchain APIs in a blockchain-native fashion. \\n12. Blockchain: is a continuously growing, single-linked \\nlist of immutable blocks (often secured using cryptography). \\nIV. EXPERIMENT \\nIn this section, a case study is presented to demonstrate \\nhow to use the proposed trustable machine learning to solve \\nreal problems. This case study uses Association Rule Mining \\n(ARM, a subdomain of machine learning) to demonstrate how \\nTrustable Machine Learning can be done with blockchain, and \\nhow to use it to do opioid prescription analysis to help combat \\nthe opioid crisis. The case study focuses on how to run ARM \\non top of the Server Layer to handle data at rest (coming from \\na blockchain all at one time). \\nA. Data Set and Parameter Setup \\nThe blockchain was created and managed by Kaleido [12], \\nwhich is a software product from an early start-up company. \\nBecause of some technical issues, some parts of this study are \\nincomplete. This permissioned blockchain is using protocol \\nquorum/raft [17] as the consensus algorithm. There are three \\nparticipating pharmacies in this blockchain: Pharmacy-A, \\nPharmacy-B and Pharmacy-C, as shown in Fig. 2. Each \\npharmacy logs its transactions to the blockchain. All data and \\ntransactions are synthetic. A transaction contains a patient ID \\nand the patient’s prescription of seven drugs. The drugs are all \\nopioid drugs that we randomly grabbed from the Internet. A \\ntransaction is further divided into seven records. Each record \\ncontains a patient ID and one opioid drug. Some transactions \\nare shown in Fig. 3. In total, there are 7,007 records of 1,001 \\npatients and 20 different opioid drugs. The data were retrieved \\nusing SQL from the Kaleido blockchain to a Server Layer. The \\nServer Layer used in this study is the SAS Cloud Analytical \\nServer [21], which is a cloud-based computing Server Layer \\nrunning on top of the SAS platform. ARM is applied with the \\nfollowing parameters: support >= 20%, confidence >= 70%, \\nnumber of items in a rule <= 3. \\n \\nFig. 2.  Blockchain setting. \\n \\nFig. 3. Synthetic data for the first two patients’ prescriptions. \\nB. Results and Remarks \\nSixteen (16) rules are found and shown in Fig. 4. The first \\nrule, “actiq & fentora ==> meperidine”, means that if a patient \\nis prescribed Actiq and Fentora, the patient is likely to be \\nprescribed Meperidine later. ARM made this prediction on the \\nbasis of the frequency (20.17982010%, which is higher than \\nthe requested threshold of 20%) of this combination (Actiq, \\nFentora, and Meperidine) in the data set and its high \\nconfidence value (78.90625, which is higher than the requested \\nthreshold of 70%). \\n \\nFig. 4.  Rules found by ARM in this synthetic case study. \\nThis result does not make sense, because the entire data set \\nis synthetic, and all the drugs are opioids. However, if given \\nreal prescription data, ARM should be able to find: \\n• \\nSome “gateway” non-opioids that may lead to \\nopioid prescriptions. \\n• \\nFrequent combinations of opioid and non-opioids \\nthat are often prescribed together. \\n• \\nOther interesting or surprising rules and analysis. \\nIf the prescribing doctors’ information or ID is available, \\nmore useful rules can be found. Because the data come from a \\nblockchain and can be trusted, the findings can easily be \\nverified and used for auditing, prosecution, or other purposes. \\nAlso, if ARM is implemented as a smart contract, this process \\ncan be automated. Policymakers and institutions can use this \\nkind of information and details to gain more insights on and \\ncombat the opioid crisis. Combined with other techniques and \\nresults from other time periods, we can also do things like \\npolicy effect analysis which compares the current results with \\nprevious year and find out if the policy worked or not. \\nV. CONCLUSION AND FUTURE RESEARCH \\nThis paper presents a unified analytical framework for trustable \\nmachine learning and automation running with blockchain. The \\nproposed framework can be used to solve the trustability and \\nautomation issues of machine learning algorithms. A \\npreliminary experiment shows that the proposed framework is \\nfeasible. However, there are some problems associated with \\nblockchain, and other problems that are often specific to the \\nmachine learning task. This section uses ARM as an example \\nto discuss open problems and related research. In the context of \\nthis paper and ARM, three open problems are considered: \\nprivacy preservation, building incremental model and handling \\nfast data stream. Privacy preservation is a big issue to many \\nenterprise use cases, especially to those heavily regulated \\nindustries (such as healthcare, banking, insurance) that have \\ndata privacy laws. Some blockchains come with built-in \\nprivacy preservation solution therefore we don’t have to worry \\nabout it. However, for some blockchains, privacy preservation \\nis not guaranteed. The reason is that the top most design goals \\nof blockchains are to provide data immutability and trustable \\nreplication. Those two goals are accomplished by replicating \\ndata throughout the network so that all participating nodes have \\nthe same copy which also ensures immutable data. As a result, \\nprivacy is not a built-in attribute in some blockchains. \\nBlockchain is essentially an incremental model—there are \\nsome blocks sitting at rest and new blocks are added \\nincrementally. Karp et al. [14] proposed a counting algorithm \\nfor finding frequent elements in data streams to build an \\nincremental model. Their algorithm has an offline component \\nand an online component, and four performance criteria were \\nconsidered: amortized time, worst-case time, number of passes, \\nand space. They also proved that the error is bounded. Chang \\nand Lee [15] proposed an algorithm called estDec for \\nassociation rule mining adaptively over an online data stream \\nby decaying the effect of old transactions. The strength of this \\nalgorithm is that it can identify and highlight the recent change \\nand trend. This makes sense in blockchain as well, because the \\nold information may be no longer useful at present.  Currently, \\nthe public blockchain (such as Bitcoin and Ethereum) data \\ngeneration speed is not very fast. This means that the frequency \\ncounting [11] can be accurately done. However, blockchain \\ndata generation speed will soon increase, and it could exceed \\nthe threshold of accurate frequency counting. Therefore, we \\nwill need to add a fast data stream component to our software \\noffering. Manku and Motwani [13] proposed sticky sampling \\nand lossy counting algorithms for approximate frequency \\ncounts over fast data streams. Yu et al. [16] presented an \\nalgorithm for association rule mining from high speed \\ntransactional data streams. They claimed some advantages over \\nthe traditional false-positive mining approach. They argued \\nthat their proposed false-negative approach can effectively \\nmine frequent itemsets with memory consumption bounded, \\nwhile in the false-positive approach the number of false-\\npositive frequent itemsets could increase exponentially, making \\nthe mining memory consumption potentially unbounded. This \\nis a very interesting approach that is suitable for fast data \\nstream situations in blockchain. In the future, all three open \\nproblems will be investigated. \\nREFERENCES \\n[1] S. Nakamoto, “Bitcoin: A peer-to-peer electronic cash system,” \\nretrieved online, May 2018.  \\n[2] V. Buterin, “A next generation smart contract and decentralized \\napplication platform,” retrieved online, May 2018. \\n[3] L. Lamport, R. Shostak, and M. Pease, “The Byzantine generals \\nproblem,” ACM Trans. on Programming Languages and Systems, vol. \\n4, no. 3, pp. 382–401, 1982. \\n[4] I. Osipkov, E. Vasserman, N. Hopper, and Y. Kim, “Combating double-\\nspending using cooperative P2P systems,” doi:10.1109/ICDCS.2007.91, \\n2007. \\n[5] J. \\nHoepman, \\n“Distributed \\ndouble \\nspending \\nprevention,” \\narXiv:0802.0832v1, 2008. \\n[6] A. Hodges and A. Turing, The Enigma. London: Burnett Books, 1983. \\n[7] R3 Corda, https://www.r3.com/, retrieved online, May 2018. \\n[8] Chain, https://chain.com/, retrieved online, May 2018. \\n[9] BigChainDB, https://www.bigchaindb.com/, retrieved online, May \\n2018. \\n[10] Hyperledger, https://www.hyperledger.org/, retrieved online, May 2018. \\n[11] R. Agrawal, T. Imieliński, and A. Swami, “Mining association rules \\nbetween sets of items in large databases,” Proceedings of the 1993 ACM \\nSIGMOD International Conference on Management of Data, SIGMOD \\n1993. \\n[12] Kaleido, a ConsenSys company, https://kaleido.io/, retrieved online, \\nMay 2018. \\n[13] G. Manku and R. Motwani, “Approximate frequency counts over data \\nstreams,” in Proceedings of the 2002 International Conference on Very \\nLarge Data Bases (VLDB ’02), Hong Kong, pp. 346–357. \\n[14] R. Karp, C. Papadimitriou, and S. Shenker, “A simple algorithm for \\nfinding frequent elements in streams and bags,” ACM Trans. Database \\nSyst., vol. 28, pp. 51–55, 2003. \\n[15] J. Chang and W. Lee, “Finding recent frequent itemsets adaptively over \\nonline data streams,” KDD ’03, Washington, DC, pp. 487–492. \\n[16] J. Yu, Z. Chong, H. Lu, and A. Zhou, “False positive or false negative: \\nMining frequent itemsets from high speed transactional data streams,” \\nVLDB ’04. \\n[17] https://en.wikipedia.org/wiki/Raft_(computer_science), retrieved 2018. \\n[18] R. Grossman, S. Bailey, A. Ramu, and X. Qin, “The management and \\nmining of multiple predictive models using the predictive modeling \\nmarkup language,” Information and Software Technology, vol. 41, no. \\n9, pp. 589–595, 2002, DOI: 10.1016/S0950-5849(99)00022-1. \\n[19] J. Pivarski, C. Bennett, and R. Grossman, “Deploying analytics with the \\nPortable Format for Analytics (PFA),” KDD ’16. \\n[20] K. Hazelwood, et al., “Applied machine learning at Facebook: A \\ndatacenter infrastructure perspective,” International Symposium on \\nHigh-Performance Computer Architecture (HPCA), 2018. \\n[21] J. Wexler, S. Haller, and R. Myneni, “An overview of SAS Visual Data \\nMining and Machine Learning on SAS Viya,” SAS Global Forum, 2017. \\n[22] A. Kurtulmus and K. Daniel, “Trustless machine learning contracts: \\nEvaluating and exchanging machine learning models on the Ethereum \\nblockchain,” arXiv:1802.10185, 2018. \\n[23] H. Gilbert and H. Handschuh, “Security analysis of SHA-256 and \\nSisters,” Selected Areas in Cryptography, 2003, pp. 175–193. \\nAPPENDIX: PSEUDOCODE \\nFunction Setting_up_the_threads() \\n{ \\nstatus = OK; \\nIf (OK != Allocate_memory_for_threads() || OK != Allocate_memory_for_thread_events()) \\n \\nstatus = OUT_OF_MEM and goto Finish; \\nInit_thread_parameters(); \\nFinish: \\nIf status =! OK \\n \\nClean_up_the_threads(); \\nReturn status; \\n} \\nPseudocode Snippet 1: Setting_up_the_threads() Function Example \\n \\nFunction Thread_main() \\n{ \\n \\nstatus = OK; \\n \\npush_exception_handler_to_stack(); \\n \\nwait_for_thread_event \\n \\n{ \\n \\n \\nIf (thread_event ==MODEL_INITIALIZATION) \\n \\n \\n \\nstatus = Model_initialization_at_thread_level(thread_event); \\n \\n \\nElse if (thread_event ==MODEL_TRAINING) \\n \\n \\n \\nstatus = Model_training_at_thread_level(thread_event); \\n \\n \\nElse if (thread_event ==MODEL_VALIDATION) \\n \\n \\n \\nstatus = Model_validation_at_thread_level(thread_event); \\n \\n \\nElse if (thread_event ==MODEL_SCORING) \\n \\n \\n \\nstatus = Model_scoring_at_thread_level(thread_event); \\n \\n \\nElse if (thread_event ==MODEL_EVALUATION) \\n \\n \\n \\nstatus = Model_evaluation_at_thread_level(thread_event); \\n \\n \\nElse if (thread_event ==MODEL_SERIALIZATION) \\n \\n \\n{ \\n \\n \\n \\nstatus = Model_serialization_at_thread_level(thread_event); \\n \\n \\n \\nIf (status == OK) \\n \\n \\n \\n \\nstatus = Model_serialization_at_machine_level_for_all_threads(); \\n} \\n \\n \\nElse if (thread_event ==MODEL_CLEAN_UP) \\n \\n \\n \\nstatus = Model_clean_up_at_thread_level(thread_event); \\n \\n \\nElse \\n \\n \\n \\nBreak; \\n \\n} \\nFinish: \\npop_exception_handler_from_stack(); \\nReturn status; \\n} \\nPseudocode Snippet 2: Thread_main () Function Example \\n \\nFunction Model_training_at_thread_level(thread_event) \\n{ \\nstatus = OK; \\nIf (OK != Allocate_memory_for_training_at_thread_level()) \\n \\nstatus = OUT_OF_MEM and goto Finish; \\nstatus = obtain_data_from_machine_memory(); \\nIf (status == OK) \\nstatus = train_the_model(); \\nFinish: \\nIf status =! OK \\n \\nClean_up_the_threads(); \\nReturn status; \\n} \\nPseudocode Snippet 3: Model Training in SMP Code Example \\n \\nFunction Model_serialization_at_cloud_level(node_instance) \\n{ \\n \\nstatus = OK; \\n \\n \\nIf (node_instance == WORKER) \\n \\n \\nstatus = Send_model_to_master_for_aggregation(); \\n \\nElse if (node_instance == MASTER) \\n \\n \\nstatus = Receive_model_from_worker_for_aggregation(); \\n \\nFinish: \\n \\nIf (node_instance == MASTER || node_instance == WORKER) \\n \\n \\nwait_until_model_aggregation_is_done(); \\n \\n \\nstatus = finish_writting_model_to_disk(); \\nreturn status; \\n} \\nPseudocode Snippet 4: Model Serialization in MPP Code Example \\n \\nFunction Model_validation_in_sliding_window(data_stream) \\n{ \\n \\nstatus = OK; \\n \\n \\nIf (data_stream == ERROR || data_stream == EMPTY) \\n \\n \\ngoto Finish; \\n \\nIf (OK != Allocate_memory_for_validation_in_sliding_window()) \\n \\nstatus = OUT_OF_MEM and goto Finish; \\n \\nWhile (obtain_validation_data_from_data_stream() == OK) \\n{ \\nstatus = model_validation(); \\n} \\n \\n \\nFinish: \\n \\nIf (data_stream == ERROR) \\n \\n \\nstatus = ERROR; \\n \\nreturn status; \\n} \\nPseudocode Snippet 5: Model Validation in Sliding Window Code Example \\n \\n \\nFunction Reward_smart_contract() \\n{ \\n \\nstatus = OK; \\n \\n \\nIf (is_my_digital_wallet_OK() == FALSE) \\n \\n \\nstatus = BAD_WALLET and goto Finish; \\n \\n \\nIf (winning_inquiry() == TRUE && total_reward() > 0 && can_collect_reward() == TRUE ) \\n \\n \\nIf (share_reward_with_others() == TRUE) \\n \\n \\n \\nstatus = collect_divided_reward(); \\n \\n \\nElse  \\n \\n \\n \\nstatus = collect_all_reward(); \\n \\n \\n \\n \\nFinish: \\nreturn status; \\n} \\nPseudocode Snippet 6: Reward Smart Contract Code Example \\n \\nFunction Model_submission_smart_contract(serialized_model) \\n{ \\n \\nstatus = OK; \\n \\n \\nIf (serialized_model == EMPTY) \\n \\n \\nstatus = NO_MODEL and goto Finish; \\n \\n \\nIf (plain_text_format_required() == TRUE) \\n \\n{ \\n \\n \\nIf (pmml_format_required() == TRUE) \\n \\n \\n \\nstatus = submit_serialized_model_in_pmml(); \\n \\n \\nElse if (pfa_format_required() == TRUE) \\n \\n \\n \\nstatus = submit_serialized_model_in_pfa(); \\n \\n \\nElse if (onnx_format_required() == TRUE) \\n \\n \\n \\nstatus = submit_serialized_model_in_onnx(); \\n \\n \\nElse \\n \\n \\n \\nstatus = submit_serialized_model_in_other_plain_text_format(); \\n} \\nElse \\n{ \\n \\nIf (astore_format_required() == TRUE) \\n \\n \\nstatus = submit_serialized_model_in_astore(); \\n \\nElse \\n \\n \\nstatus = submit_serialized_model_in_other_binary_format(); \\n} \\n \\n \\n \\n \\nFinish: \\nreturn status; \\n} \\nPseudocode Snippet 7: Model Submission Smart Contract Code Example \\n \\nFunction Fair_play_smart_contract() \\n{ \\n \\nstatus = OK; \\n \\n \\nIf (shall_I_deposit_reward() == TRUE) \\n \\n \\nstatus = deposit_reward() and goto Finish; \\n \\n \\nIf (submission_limit_reached() == TRUE) \\n \\n \\ngoto Finish; \\n \\nElse \\n \\n \\nstatus = try_to_train_and_submit_better_model(); \\n \\n \\nFinish: \\nreturn status; \\n} \\nPseudocode Snippet 8: Fair-Play Smart Contract Code Example \\n \\nFunction Smart_contract_main() \\n{ \\n \\nstatus = OK; \\n \\npush_exception_handler_to_stack(); \\n \\n \\nFair_play_smart_contract(); \\n \\n \\nwait_for_event \\n \\n{ \\n \\n \\nIf (event ==MODEL_INITIALIZATION) \\n \\n \\n \\nstatus = Model_initialization_in_smart_contract(); \\n \\n \\nElse if (event ==MODEL_TRAINING) \\n \\n \\n \\nstatus = Model_training_in_smart_contract(); \\n \\n \\nElse if (event ==MODEL_VALIDATION) \\n \\n \\n \\nstatus = Model_validation_in_smart_contract(); \\n \\n \\nElse if (event ==MODEL_SCORING) \\n \\n \\n \\nstatus = Model_scoring_in_smart_contract(); \\n \\n \\nElse if (event ==MODEL_EVALUATION) \\n \\n \\n \\nstatus = Model_evaluation_in_smart_contract(); \\n \\n \\nElse if (event ==MODEL_SERIALIZATION) \\n \\n \\n \\nstatus = Model_serialization_in_smart_contract(); \\n \\n \\nElse if (event ==MODEL_CLEAN_UP) \\n \\n \\n \\nstatus = Model_clean_up_in_smart_contract(); \\n \\n \\nElse if (event == MODEL_SUBMISSION) \\n \\n \\n \\nstatus = Model_submission_in_smart_contract(); \\n \\n \\nElse \\n \\n \\n \\nBreak; \\n \\n} \\n \\nstatus = Reward_smart_contract(); \\n \\nFinish: \\npop_exception_handler_from_stack(); \\nReturn status; \\n} \\nPseudocode Snippet 9: Smart Contract Main Function Code Example \\n \\n'"
            ],
            "application/vnd.google.colaboratory.intrinsic+json": {
              "type": "string"
            }
          },
          "metadata": {},
          "execution_count": 5
        }
      ]
    },
    {
      "cell_type": "code",
      "source": [
        "len(FileContent)"
      ],
      "metadata": {
        "colab": {
          "base_uri": "https://localhost:8080/",
          "height": 34
        },
        "id": "APfGcZS8Nyvk",
        "outputId": "3d6567f1-c93b-43e3-d052-9aea89ead526"
      },
      "execution_count": 6,
      "outputs": [
        {
          "output_type": "display_data",
          "data": {
            "text/plain": [
              "<IPython.core.display.HTML object>"
            ],
            "text/html": [
              "\n",
              "\n",
              "  "
            ]
          },
          "metadata": {}
        },
        {
          "output_type": "execute_result",
          "data": {
            "text/plain": [
              "45954"
            ]
          },
          "metadata": {},
          "execution_count": 6
        }
      ]
    },
    {
      "cell_type": "code",
      "source": [
        "from transformers import AutoTokenizer, AutoModelForSeq2SeqLM\n",
        "\n",
        "checkpoint = \"sshleifer/distilbart-cnn-12-6\"\n",
        "\n",
        "tokenizer = AutoTokenizer.from_pretrained(checkpoint)\n",
        "model = AutoModelForSeq2SeqLM.from_pretrained(checkpoint)"
      ],
      "metadata": {
        "colab": {
          "base_uri": "https://localhost:8080/",
          "height": 336,
          "referenced_widgets": [
            "5b9506cef2e8419d9dc524b78e28a4de",
            "b5b577933f0a42ae810187e5645555d3",
            "8f24eccb3bb3492faa4c32709e09f4bf",
            "f16b33a0a39c4c15aa10c1fdfaa509e4",
            "45c840f2c9f94be4a5bc0699a1d488a3",
            "637f9d9df134401398f0e8d79459d976",
            "4d768c6012364a9880a5ac00a4ac06bb",
            "45647a237e2f4d7fba5c4cc5618a97bf",
            "d4b54a9c7b694a6c9993124a9458fd89",
            "6ccb980f6d8c4280bd7c06949734c23d",
            "cd07f48507c14d5fb60555eb829c48bb",
            "749747d4c46d44e68595a51eca402e2a",
            "72c6f5116aa741e0be8bc7f57227cd2f",
            "511e08531df546f28e009d0466d78128",
            "fbe868f6b2a04c24a3bf2e1ad0ffa12b",
            "487493d76d124a54836bec2e18d87b72",
            "b73d4b2ae4cc42f596f00ab133083739",
            "a541bec000ce49e68fb0cffad20ff0d1",
            "e1fdb9d2b851480e922e41e451387b4c",
            "439ba744766b4e5ea79bec9d5e7131f4",
            "a271fc63d9cf4946b04b9601b8ea0496",
            "b398f6f5752041d58adea2ae12e594f4",
            "f39dd56933d646f4bab1e7b50941413c",
            "8a2ff5efa6024289bd5bdd6372e247c8",
            "cb3bc72b2b334262af1405682c3c7819",
            "f34c92138ff244588aa8fee94486900f",
            "2c9c6b6b9a904e24a7234ed1791f1daa",
            "b050ef3b17ea4073a1a8bbf9a6f4307b",
            "d709febf03f54727bcfa4bc2260000f8",
            "d9655eb7d80e47b0aa41e4efedb606ea",
            "119f598ea2fa4cf9a8f14f48188d2af3",
            "d8e49d87b971481c938b3bfed4a534c5",
            "4e4146201817413783392e2fbfbdf683",
            "9c7b5f47363a452cbaf4c56712044321",
            "d0371b891a18498fa22264a92ba5c1a7",
            "82a014947bdc4fb39051fa70afd63f78",
            "46ee119996dd42ed8beadfc2de49a7e6",
            "e2292f40188342c4a07dacddd0a0b1d5",
            "e19052c3b5ea4fa38c7e1be1c8621701",
            "dc114762b3dc4f3e87626837b0619686",
            "06cc7968d9564bcfaadb1af6a3bb81ff",
            "870ae15a00c14a299eb55a1dcbad9a3a",
            "807a8bf6678b48d1a7f4186bb266fa4d",
            "e39bab3f6bc0411fa30db7c09ac4da64",
            "65c9cf2cb7e5483096f47e9940af95a8",
            "78437081bc344398ba5963db393a9639",
            "402ae8af772f4291a49b22d5db3e042c",
            "97843580f73942cca059b9332052b3d1",
            "61b678fc4d1446caa3bdda5d8d94e0be",
            "130251c40bb14e90855a029ce43fb664",
            "47302f93b90f49f28be4fa3b637c15e8",
            "fe9b3a497fb4491f992279f9e0c8dd16",
            "28f38efd73db4c14a6543daf432c3020",
            "405177e65081465185c0460bef3059ce",
            "cb388514b4b84a61aacd9c8681fe285d"
          ]
        },
        "id": "cqxKNYVQN7NP",
        "outputId": "e5d73c24-505d-4d83-e6ea-fa3cc279446f"
      },
      "execution_count": 7,
      "outputs": [
        {
          "output_type": "display_data",
          "data": {
            "text/plain": [
              "<IPython.core.display.HTML object>"
            ],
            "text/html": [
              "\n",
              "\n",
              "  "
            ]
          },
          "metadata": {}
        },
        {
          "output_type": "stream",
          "name": "stderr",
          "text": [
            "/usr/local/lib/python3.10/dist-packages/huggingface_hub/utils/_token.py:89: UserWarning: \n",
            "The secret `HF_TOKEN` does not exist in your Colab secrets.\n",
            "To authenticate with the Hugging Face Hub, create a token in your settings tab (https://huggingface.co/settings/tokens), set it as secret in your Google Colab and restart your session.\n",
            "You will be able to reuse this secret in all of your notebooks.\n",
            "Please note that authentication is recommended but still optional to access public models or datasets.\n",
            "  warnings.warn(\n"
          ]
        },
        {
          "output_type": "display_data",
          "data": {
            "text/plain": [
              "tokenizer_config.json:   0%|          | 0.00/26.0 [00:00<?, ?B/s]"
            ],
            "application/vnd.jupyter.widget-view+json": {
              "version_major": 2,
              "version_minor": 0,
              "model_id": "5b9506cef2e8419d9dc524b78e28a4de"
            }
          },
          "metadata": {}
        },
        {
          "output_type": "stream",
          "name": "stderr",
          "text": [
            "/usr/local/lib/python3.10/dist-packages/huggingface_hub/file_download.py:1132: FutureWarning: `resume_download` is deprecated and will be removed in version 1.0.0. Downloads always resume when possible. If you want to force a new download, use `force_download=True`.\n",
            "  warnings.warn(\n"
          ]
        },
        {
          "output_type": "display_data",
          "data": {
            "text/plain": [
              "config.json:   0%|          | 0.00/1.80k [00:00<?, ?B/s]"
            ],
            "application/vnd.jupyter.widget-view+json": {
              "version_major": 2,
              "version_minor": 0,
              "model_id": "749747d4c46d44e68595a51eca402e2a"
            }
          },
          "metadata": {}
        },
        {
          "output_type": "display_data",
          "data": {
            "text/plain": [
              "vocab.json:   0%|          | 0.00/899k [00:00<?, ?B/s]"
            ],
            "application/vnd.jupyter.widget-view+json": {
              "version_major": 2,
              "version_minor": 0,
              "model_id": "f39dd56933d646f4bab1e7b50941413c"
            }
          },
          "metadata": {}
        },
        {
          "output_type": "display_data",
          "data": {
            "text/plain": [
              "merges.txt:   0%|          | 0.00/456k [00:00<?, ?B/s]"
            ],
            "application/vnd.jupyter.widget-view+json": {
              "version_major": 2,
              "version_minor": 0,
              "model_id": "9c7b5f47363a452cbaf4c56712044321"
            }
          },
          "metadata": {}
        },
        {
          "output_type": "display_data",
          "data": {
            "text/plain": [
              "pytorch_model.bin:   0%|          | 0.00/1.22G [00:00<?, ?B/s]"
            ],
            "application/vnd.jupyter.widget-view+json": {
              "version_major": 2,
              "version_minor": 0,
              "model_id": "65c9cf2cb7e5483096f47e9940af95a8"
            }
          },
          "metadata": {}
        }
      ]
    },
    {
      "cell_type": "code",
      "source": [
        "tokenizer.model_max_length"
      ],
      "metadata": {
        "colab": {
          "base_uri": "https://localhost:8080/",
          "height": 34
        },
        "id": "sKqSl1DcODCx",
        "outputId": "abc56ca5-9591-4fe9-f951-300751976e3b"
      },
      "execution_count": 8,
      "outputs": [
        {
          "output_type": "display_data",
          "data": {
            "text/plain": [
              "<IPython.core.display.HTML object>"
            ],
            "text/html": [
              "\n",
              "\n",
              "  "
            ]
          },
          "metadata": {}
        },
        {
          "output_type": "execute_result",
          "data": {
            "text/plain": [
              "1024"
            ]
          },
          "metadata": {},
          "execution_count": 8
        }
      ]
    },
    {
      "cell_type": "code",
      "source": [
        "tokenizer.max_len_single_sentence"
      ],
      "metadata": {
        "colab": {
          "base_uri": "https://localhost:8080/",
          "height": 34
        },
        "id": "jJFtp3p8OJ2l",
        "outputId": "a6b42d44-6604-4aa6-a54d-51e057f25785"
      },
      "execution_count": 9,
      "outputs": [
        {
          "output_type": "display_data",
          "data": {
            "text/plain": [
              "<IPython.core.display.HTML object>"
            ],
            "text/html": [
              "\n",
              "\n",
              "  "
            ]
          },
          "metadata": {}
        },
        {
          "output_type": "execute_result",
          "data": {
            "text/plain": [
              "1022"
            ]
          },
          "metadata": {},
          "execution_count": 9
        }
      ]
    },
    {
      "cell_type": "code",
      "source": [
        "tokenizer.num_special_tokens_to_add()"
      ],
      "metadata": {
        "colab": {
          "base_uri": "https://localhost:8080/",
          "height": 34
        },
        "id": "jBFkfbHTOJzB",
        "outputId": "6819d887-e5bc-45b4-dc6a-8f2cb69f9126"
      },
      "execution_count": 10,
      "outputs": [
        {
          "output_type": "display_data",
          "data": {
            "text/plain": [
              "<IPython.core.display.HTML object>"
            ],
            "text/html": [
              "\n",
              "\n",
              "  "
            ]
          },
          "metadata": {}
        },
        {
          "output_type": "execute_result",
          "data": {
            "text/plain": [
              "2"
            ]
          },
          "metadata": {},
          "execution_count": 10
        }
      ]
    },
    {
      "cell_type": "code",
      "source": [
        "import nltk\n",
        "nltk.download('punkt')\n",
        "sentences = nltk.tokenize.sent_tokenize(FileContent)"
      ],
      "metadata": {
        "colab": {
          "base_uri": "https://localhost:8080/",
          "height": 52
        },
        "id": "zq9M32UEOQLZ",
        "outputId": "c8930a44-b55e-4c4b-fd77-156739b4c2b2"
      },
      "execution_count": 11,
      "outputs": [
        {
          "output_type": "display_data",
          "data": {
            "text/plain": [
              "<IPython.core.display.HTML object>"
            ],
            "text/html": [
              "\n",
              "\n",
              "  "
            ]
          },
          "metadata": {}
        },
        {
          "output_type": "stream",
          "name": "stderr",
          "text": [
            "[nltk_data] Downloading package punkt to /root/nltk_data...\n",
            "[nltk_data]   Unzipping tokenizers/punkt.zip.\n"
          ]
        }
      ]
    },
    {
      "cell_type": "code",
      "source": [
        "max([len(tokenizer.tokenize(sentence)) for sentence in sentences])"
      ],
      "metadata": {
        "colab": {
          "base_uri": "https://localhost:8080/",
          "height": 72
        },
        "id": "gdaeYWdOOQIC",
        "outputId": "a8781280-d2f9-4563-8d81-9355a327fc61"
      },
      "execution_count": 12,
      "outputs": [
        {
          "output_type": "display_data",
          "data": {
            "text/plain": [
              "<IPython.core.display.HTML object>"
            ],
            "text/html": [
              "\n",
              "\n",
              "  "
            ]
          },
          "metadata": {}
        },
        {
          "output_type": "stream",
          "name": "stderr",
          "text": [
            "Token indices sequence length is longer than the specified maximum sequence length for this model (1612 > 1024). Running this sequence through the model will result in indexing errors\n"
          ]
        },
        {
          "output_type": "execute_result",
          "data": {
            "text/plain": [
              "1612"
            ]
          },
          "metadata": {},
          "execution_count": 12
        }
      ]
    },
    {
      "cell_type": "code",
      "source": [
        "length = 0\n",
        "chunk = \"\"\n",
        "chunks = []\n",
        "count = -1\n",
        "for sentence in sentences:\n",
        "  count += 1\n",
        "  combined_length = len(tokenizer.tokenize(sentence)) + length # add the no. of sentence tokens to the length counter\n",
        "\n",
        "  if combined_length  <= tokenizer.max_len_single_sentence: # if it doesn't exceed\n",
        "    chunk += sentence + \" \" # add the sentence to the chunk\n",
        "    length = combined_length # update the length counter\n",
        "\n",
        "    # if it is the last sentence\n",
        "    if count == len(sentences) - 1:\n",
        "      chunks.append(chunk.strip()) # save the chunk\n",
        "\n",
        "  else:\n",
        "    chunks.append(chunk.strip()) # save the chunk\n",
        "\n",
        "    # reset\n",
        "    length = 0\n",
        "    chunk = \"\"\n",
        "\n",
        "    # take care of the overflow sentence\n",
        "    chunk += sentence + \" \"\n",
        "    length = len(tokenizer.tokenize(sentence))\n",
        "len(chunks)"
      ],
      "metadata": {
        "colab": {
          "base_uri": "https://localhost:8080/",
          "height": 34
        },
        "id": "nq9PXYtpOPws",
        "outputId": "3563580c-a0ac-4ed5-b16c-39b3e7e23d99"
      },
      "execution_count": 13,
      "outputs": [
        {
          "output_type": "display_data",
          "data": {
            "text/plain": [
              "<IPython.core.display.HTML object>"
            ],
            "text/html": [
              "\n",
              "\n",
              "  "
            ]
          },
          "metadata": {}
        },
        {
          "output_type": "execute_result",
          "data": {
            "text/plain": [
              "11"
            ]
          },
          "metadata": {},
          "execution_count": 13
        }
      ]
    },
    {
      "cell_type": "code",
      "source": [
        "[len(tokenizer.tokenize(c)) for c in chunks]"
      ],
      "metadata": {
        "colab": {
          "base_uri": "https://localhost:8080/",
          "height": 34
        },
        "id": "UWVDHD8yOdoS",
        "outputId": "84c7a257-5330-4cef-a917-3d8e03bb2ff6"
      },
      "execution_count": 14,
      "outputs": [
        {
          "output_type": "display_data",
          "data": {
            "text/plain": [
              "<IPython.core.display.HTML object>"
            ],
            "text/html": [
              "\n",
              "\n",
              "  "
            ]
          },
          "metadata": {}
        },
        {
          "output_type": "execute_result",
          "data": {
            "text/plain": [
              "[1020, 977, 997, 988, 1006, 1016, 994, 1012, 959, 764, 641]"
            ]
          },
          "metadata": {},
          "execution_count": 14
        }
      ]
    },
    {
      "cell_type": "code",
      "source": [
        "[len(tokenizer(c).input_ids) for c in chunks]"
      ],
      "metadata": {
        "colab": {
          "base_uri": "https://localhost:8080/",
          "height": 34
        },
        "id": "bxoQMMpEOdgz",
        "outputId": "070acd56-e121-4fef-f461-1403c741bcd9"
      },
      "execution_count": 15,
      "outputs": [
        {
          "output_type": "display_data",
          "data": {
            "text/plain": [
              "<IPython.core.display.HTML object>"
            ],
            "text/html": [
              "\n",
              "\n",
              "  "
            ]
          },
          "metadata": {}
        },
        {
          "output_type": "execute_result",
          "data": {
            "text/plain": [
              "[1022, 979, 999, 990, 1008, 1018, 996, 1014, 961, 766, 643]"
            ]
          },
          "metadata": {},
          "execution_count": 15
        }
      ]
    },
    {
      "cell_type": "code",
      "source": [
        "sum([len(tokenizer(c).input_ids) for c in chunks])"
      ],
      "metadata": {
        "colab": {
          "base_uri": "https://localhost:8080/",
          "height": 34
        },
        "id": "KfUEhc6pOdZw",
        "outputId": "f69f92f1-6bd0-4904-9b34-3a18c7800a05"
      },
      "execution_count": 16,
      "outputs": [
        {
          "output_type": "display_data",
          "data": {
            "text/plain": [
              "<IPython.core.display.HTML object>"
            ],
            "text/html": [
              "\n",
              "\n",
              "  "
            ]
          },
          "metadata": {}
        },
        {
          "output_type": "execute_result",
          "data": {
            "text/plain": [
              "10396"
            ]
          },
          "metadata": {},
          "execution_count": 16
        }
      ]
    },
    {
      "cell_type": "code",
      "source": [
        "len(tokenizer(FileContent).input_ids)"
      ],
      "metadata": {
        "colab": {
          "base_uri": "https://localhost:8080/",
          "height": 34
        },
        "id": "bS0lAaY0OdR8",
        "outputId": "23291074-9a90-46f6-f148-eb0d3bddf83b"
      },
      "execution_count": 17,
      "outputs": [
        {
          "output_type": "display_data",
          "data": {
            "text/plain": [
              "<IPython.core.display.HTML object>"
            ],
            "text/html": [
              "\n",
              "\n",
              "  "
            ]
          },
          "metadata": {}
        },
        {
          "output_type": "execute_result",
          "data": {
            "text/plain": [
              "12348"
            ]
          },
          "metadata": {},
          "execution_count": 17
        }
      ]
    },
    {
      "cell_type": "code",
      "source": [
        "sum([len(tokenizer.tokenize(c)) for c in chunks])"
      ],
      "metadata": {
        "colab": {
          "base_uri": "https://localhost:8080/",
          "height": 34
        },
        "id": "RjQD10QgOdKH",
        "outputId": "16d9d919-acd8-40d6-8265-80dfd9f134bf"
      },
      "execution_count": 18,
      "outputs": [
        {
          "output_type": "display_data",
          "data": {
            "text/plain": [
              "<IPython.core.display.HTML object>"
            ],
            "text/html": [
              "\n",
              "\n",
              "  "
            ]
          },
          "metadata": {}
        },
        {
          "output_type": "execute_result",
          "data": {
            "text/plain": [
              "10374"
            ]
          },
          "metadata": {},
          "execution_count": 18
        }
      ]
    },
    {
      "cell_type": "code",
      "source": [
        "len(tokenizer.tokenize(FileContent))"
      ],
      "metadata": {
        "colab": {
          "base_uri": "https://localhost:8080/",
          "height": 34
        },
        "id": "50XaQMVpOtJv",
        "outputId": "210357d0-795e-4dbb-ec72-b8a078dd96d7"
      },
      "execution_count": 19,
      "outputs": [
        {
          "output_type": "display_data",
          "data": {
            "text/plain": [
              "<IPython.core.display.HTML object>"
            ],
            "text/html": [
              "\n",
              "\n",
              "  "
            ]
          },
          "metadata": {}
        },
        {
          "output_type": "execute_result",
          "data": {
            "text/plain": [
              "12346"
            ]
          },
          "metadata": {},
          "execution_count": 19
        }
      ]
    },
    {
      "cell_type": "code",
      "source": [
        "inputs = [tokenizer(chunk, return_tensors=\"pt\") for chunk in chunks]"
      ],
      "metadata": {
        "colab": {
          "base_uri": "https://localhost:8080/",
          "height": 17
        },
        "id": "lwE7AIMVOwXZ",
        "outputId": "52ade872-ebb2-46db-e940-31b888472aba"
      },
      "execution_count": 20,
      "outputs": [
        {
          "output_type": "display_data",
          "data": {
            "text/plain": [
              "<IPython.core.display.HTML object>"
            ],
            "text/html": [
              "\n",
              "\n",
              "  "
            ]
          },
          "metadata": {}
        }
      ]
    },
    {
      "cell_type": "code",
      "source": [
        "for input in inputs:\n",
        "  output = model.generate(**input)\n",
        "  summary_generated = tokenizer.decode(*output, skip_special_tokens=True)\n",
        "  print(summary_generated)"
      ],
      "metadata": {
        "colab": {
          "base_uri": "https://localhost:8080/",
          "height": 193
        },
        "id": "1GkEfpwkOwPV",
        "outputId": "330510ef-8fb3-434e-890d-aef25f3fc4bc"
      },
      "execution_count": null,
      "outputs": [
        {
          "output_type": "display_data",
          "data": {
            "text/plain": [
              "<IPython.core.display.HTML object>"
            ],
            "text/html": [
              "\n",
              "\n",
              "  "
            ]
          },
          "metadata": {}
        },
        {
          "output_type": "stream",
          "name": "stdout",
          "text": [
            " Traditional machine learning algorithms use data from databases that are mutable, therefore the data cannot be fully trusted. This paper proposes building a trustable machine. learning system by using blockchain technology, which can store. data in a permanent and immutable way. In addition, smart.contracts are used to automate the machine learning process.\n",
            " A paper proposes to use the smart contract as the automation engine to solve the automation problem. It establishes a link between machine learning technology and blockchain technology. The proposed unified analytical framework solves both the trustability and automation issues in machine learning. It also makes it possible for a computer to translate core machine learning implementations from a single thread on a single machine to multiple machines running with blockchain.\n",
            " This paper uses these seven steps to demonstrate the framework for trustable machine learning with blockchain. Machine learning builds probabilistic models based on the past or changing models and ever-changing models. The steps include model initialization, model validation, model scoring, model serialization and model evaluation. The paper concludes that machine learning and machine learning are different technologies without an obvious link.\n",
            " Current data storage systems are all mutable, so the data can be modified by hackers or  unauthorized parties or simply by mistake. As a result, machine learning algorithms can completely trust the data coming from public blockchains. This paper covers both types of blockchains and different machine learning algorithm running modes, on or off a blockchain.\n",
            " Server Layer Implementation: it is the implementation of the machine learning algorithm after code refactoring so that it can run on top of the Server Layer. Server Layer can have two running modes: Symmetric ipientMultiprocessing (SMP) and Massively Parallel Processing (MPP) The Streaming Layer is a cloud-based computing environment that can:. Receive, organize, and disseminate data records to a specified machine learning task.\n",
            " In the context of this paper, a Smart Contract Layer is a cloud-based computing environment that can host machine learning tasks for model-training and scoring. The Streaming Layer can obtain instant aggregated data from the blockchain via APIs via the Streaming Layer. The Server Layer handles data events on the fly (dynamically) and the Streaming layer handles all the data at rest (statically)\n",
            " Case study uses Association Rule Mining (ARM) to demonstrate how machine learning can be done with blockchain, and how to use it to do opioid prescription analysis to help combat the opioid crisis. There are 7,007 records of 1,001 patients and 20 different opioid drugs. Data were retrieved  using SQL from the Kaleido blockchain to a Server Layer.\n",
            " Some blockchains come with built-in privacy preservation solution therefore we don’t have to worry about it. But for some blockchains, privacy preservation is not guaranteed. The top most design goals  are to provide data immutability and trustable replication. Currently, public blockchain (such as Bitcoin and. Ethereum) data generation speed is not very fast.\n",
            " A. G. Manku and R. Motwani, “Approximate frequency counts over data                 streams,” in Proceedings of the 2002 International Conference on Very                 Large Data Bases (VLDB ’02), Hong Kong, pp. 346–357. J. Chang and W. Lee: “Finding recent frequent itemsets adaptively over                 online data streams” KDD ’03, Washington, DC.\n"
          ]
        }
      ]
    },
    {
      "cell_type": "code",
      "source": [
        "len(summary_generated)"
      ],
      "metadata": {
        "colab": {
          "base_uri": "https://localhost:8080/",
          "height": 34
        },
        "id": "d1Ny-ALCS5sx",
        "outputId": "9e17db7a-11de-4cdf-fec5-5e8ee7cdd8b3"
      },
      "execution_count": 24,
      "outputs": [
        {
          "output_type": "display_data",
          "data": {
            "text/plain": [
              "<IPython.core.display.HTML object>"
            ],
            "text/html": [
              "\n",
              "\n",
              "  "
            ]
          },
          "metadata": {}
        },
        {
          "output_type": "execute_result",
          "data": {
            "text/plain": [
              "260"
            ]
          },
          "metadata": {},
          "execution_count": 24
        }
      ]
    },
    {
      "cell_type": "code",
      "source": [],
      "metadata": {
        "id": "FJvB4g7c-9UB"
      },
      "execution_count": null,
      "outputs": []
    }
  ]
}